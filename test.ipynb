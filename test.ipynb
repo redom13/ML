{
 "cells": [
  {
   "cell_type": "code",
   "execution_count": null,
   "metadata": {},
   "outputs": [],
   "source": [
    "a=10\n",
    "print(a)"
   ]
  },
  {
   "cell_type": "markdown",
   "metadata": {},
   "source": [
    "# This is my first Note"
   ]
  },
  {
   "cell_type": "markdown",
   "metadata": {},
   "source": [
    "## Wishlist\n",
    "* Python\n",
    "* Numpy\n",
    "* Panda\n",
    "* Matplotlib"
   ]
  },
  {
   "cell_type": "markdown",
   "metadata": {},
   "source": [
    "### Data Type  \n",
    "<span style=\"color:red\">Double space `' '` for newline.</span>  \n",
    "`''' '''` for multiline string  \n",
    "list is equivalent to array"
   ]
  },
  {
   "cell_type": "code",
   "execution_count": 10,
   "metadata": {},
   "outputs": [
    {
     "name": "stdout",
     "output_type": "stream",
     "text": [
      "This is my List:  [1, 2, 3, 4, 5]\n",
      "['H', 'e', 'y', '\\n', ' ', 'g', 'u', 'y', 's']\n",
      "Hey\n",
      " guys\n",
      "y\n"
     ]
    },
    {
     "data": {
      "text/plain": [
       "str"
      ]
     },
     "execution_count": 10,
     "metadata": {},
     "output_type": "execute_result"
    }
   ],
   "source": [
    "myList=[1,2,3,4,5]\n",
    "print(\"This is my List: \",myList)\n",
    "s=\"Hey\\n guys\"\n",
    "print(list(s))\n",
    "print(s)\n",
    "s2='''Hey\n",
    "guys'''\n",
    "print(s2[2])\n",
    "type(s2)"
   ]
  },
  {
   "cell_type": "code",
   "execution_count": 12,
   "metadata": {},
   "outputs": [
    {
     "name": "stdout",
     "output_type": "stream",
     "text": [
      "5.0\n",
      "<class 'float'>\n",
      "5\n"
     ]
    },
    {
     "data": {
      "text/plain": [
       "int"
      ]
     },
     "execution_count": 12,
     "metadata": {},
     "output_type": "execute_result"
    }
   ],
   "source": [
    "print(10/2)\n",
    "print(type(10/2))\n",
    "print(10//2)\n",
    "type(10//2)"
   ]
  },
  {
   "cell_type": "markdown",
   "metadata": {},
   "source": [
    "<span style=\"color:red\">None</span> is maybe equi. to NULL."
   ]
  },
  {
   "cell_type": "code",
   "execution_count": 13,
   "metadata": {},
   "outputs": [
    {
     "data": {
      "text/plain": [
       "NoneType"
      ]
     },
     "execution_count": 13,
     "metadata": {},
     "output_type": "execute_result"
    }
   ],
   "source": [
    "nothing = None\n",
    "type(nothing)"
   ]
  },
  {
   "cell_type": "code",
   "execution_count": 2,
   "metadata": {},
   "outputs": [
    {
     "name": "stdout",
     "output_type": "stream",
     "text": [
      "day\n",
      "Hectic day\n",
      "True\n",
      "False\n",
      "True\n",
      "Sunday\n"
     ]
    }
   ],
   "source": [
    "today=\"Saturday\"\n",
    "print(today[5:8])\n",
    "# 8 is the index after the last one and it is not included in the output\n",
    "print(\"Hectic\",today[5:])\n",
    "print(\"Sat\" in today)\n",
    "print(\"Sun\" in today)\n",
    "print(\"Sun\" not in today)\n",
    "today=today.replace(\"Satur\",\"Sun\")\n",
    "print(today)"
   ]
  },
  {
   "cell_type": "code",
   "execution_count": 5,
   "metadata": {},
   "outputs": [
    {
     "name": "stdout",
     "output_type": "stream",
     "text": [
      "Sunda\n"
     ]
    }
   ],
   "source": [
    "print(today[:-1])"
   ]
  },
  {
   "cell_type": "code",
   "execution_count": 10,
   "metadata": {},
   "outputs": [
    {
     "name": "stdout",
     "output_type": "stream",
     "text": [
      "   *\n",
      "  **\n",
      " ***\n",
      "****\n",
      " ***\n",
      "  **\n",
      "   *\n"
     ]
    }
   ],
   "source": [
    "# Naive way\n",
    "size=input(\"Enter the size of the pattern:\")\n",
    "size=int(size)\n",
    "line='*'\n",
    "for i in range(size):\n",
    "    for j in range(size-i-1):\n",
    "        print(\" \",end=\"\") #end=\"\" is used to avoid the new line character\n",
    "    print(line)\n",
    "    line+='*'\n",
    "line=line[:-1] #cz line became one character longer than the size\n",
    "for i in range(size-1):\n",
    "    for j in range(i+1):\n",
    "        print(\" \",end=\"\")\n",
    "    print(line[:-i-1]) #:-i-1 is used to remove the last i characters from the line"
   ]
  },
  {
   "cell_type": "code",
   "execution_count": 21,
   "metadata": {},
   "outputs": [
    {
     "name": "stdout",
     "output_type": "stream",
     "text": [
      "   *\n",
      "  **\n",
      " ***\n",
      "****\n",
      " ***\n",
      "  **\n",
      "   *\n"
     ]
    }
   ],
   "source": [
    "# Better Pythonic Way\n",
    "size=4\n",
    "line=' '*(size-1)+'*'\n",
    "for i in range(2*size-1):\n",
    "    print(line)\n",
    "    if i<size-1:\n",
    "        line=line[1:]+'*'\n",
    "    else:\n",
    "        line=' '+line[:-1]"
   ]
  },
  {
   "cell_type": "code",
   "execution_count": 17,
   "metadata": {},
   "outputs": [
    {
     "name": "stdout",
     "output_type": "stream",
     "text": [
      "aaaa*\n",
      "aaa*\n",
      "aaa\n"
     ]
    }
   ],
   "source": [
    "size=input(\"Enter the size of the pattern:\")\n",
    "size=int(size)\n",
    "spaceLine='a'*size+'*' #A string with size number of 'a' and one '*'\n",
    "print(spaceLine)\n",
    "spaceLine=spaceLine[1:] #remove the first character\n",
    "print(spaceLine)\n",
    "spaceLine=spaceLine[:-1] #remove the last character\n",
    "print(spaceLine)"
   ]
  },
  {
   "cell_type": "markdown",
   "metadata": {},
   "source": [
    "          *\n",
    "         ***\n",
    "        *****\n",
    "       *******\n",
    "      *********\n",
    "     ***********\n",
    "      *********\n",
    "       *******\n",
    "        *****\n",
    "         ***\n",
    "          *\n",
    "### Make this pattern"
   ]
  },
  {
   "cell_type": "code",
   "execution_count": 18,
   "metadata": {},
   "outputs": [
    {
     "name": "stdout",
     "output_type": "stream",
     "text": [
      "     *\n",
      "    ***\n",
      "   *****\n",
      "  *******\n",
      " *********\n",
      "***********\n",
      " *********\n",
      "  *******\n",
      "   *****\n",
      "    ***\n",
      "     *\n"
     ]
    }
   ],
   "source": [
    "size=6\n",
    "line=' '*(size-1)+'*'\n",
    "for i in range(2*size-1):\n",
    "    print(line)\n",
    "    if i<size-1:\n",
    "        line=line[1:]+'**'\n",
    "    else:\n",
    "        line=' '+line[:-2]"
   ]
  },
  {
   "cell_type": "markdown",
   "metadata": {},
   "source": [
    "The following is like `Ternary Operator` in C/Cpp"
   ]
  },
  {
   "cell_type": "code",
   "execution_count": 22,
   "metadata": {},
   "outputs": [
    {
     "name": "stdout",
     "output_type": "stream",
     "text": [
      "0\n"
     ]
    }
   ],
   "source": [
    "result=0 if 1==1 else 1\n",
    "print(result)"
   ]
  },
  {
   "cell_type": "code",
   "execution_count": null,
   "metadata": {},
   "outputs": [],
   "source": []
  }
 ],
 "metadata": {
  "kernelspec": {
   "display_name": "Python 3",
   "language": "python",
   "name": "python3"
  },
  "language_info": {
   "codemirror_mode": {
    "name": "ipython",
    "version": 3
   },
   "file_extension": ".py",
   "mimetype": "text/x-python",
   "name": "python",
   "nbconvert_exporter": "python",
   "pygments_lexer": "ipython3",
   "version": "3.11.9"
  }
 },
 "nbformat": 4,
 "nbformat_minor": 2
}
