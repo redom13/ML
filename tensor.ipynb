{
  "nbformat": 4,
  "nbformat_minor": 0,
  "metadata": {
    "colab": {
      "provenance": [],
      "authorship_tag": "ABX9TyN1/NdyI6MYWnKGpGZczJcH",
      "include_colab_link": true
    },
    "kernelspec": {
      "name": "python3",
      "display_name": "Python 3"
    },
    "language_info": {
      "name": "python"
    }
  },
  "cells": [
    {
      "cell_type": "markdown",
      "metadata": {
        "id": "view-in-github",
        "colab_type": "text"
      },
      "source": [
        "<a href=\"https://colab.research.google.com/github/redom13/ML/blob/main/tensor.ipynb\" target=\"_parent\"><img src=\"https://colab.research.google.com/assets/colab-badge.svg\" alt=\"Open In Colab\"/></a>"
      ]
    },
    {
      "cell_type": "code",
      "execution_count": null,
      "metadata": {
        "colab": {
          "base_uri": "https://localhost:8080/",
          "height": 36
        },
        "id": "dbcalPPx-HqU",
        "outputId": "5396ef41-7d10-4339-c422-9cf6d3ed6961"
      },
      "outputs": [
        {
          "output_type": "execute_result",
          "data": {
            "text/plain": [
              "'2.3.1+cu121'"
            ],
            "application/vnd.google.colaboratory.intrinsic+json": {
              "type": "string"
            }
          },
          "metadata": {},
          "execution_count": 1
        }
      ],
      "source": [
        "import torch\n",
        "torch.__version__"
      ]
    },
    {
      "cell_type": "code",
      "source": [
        "tensor_A=torch.rand(3,2)\n",
        "tensor_A"
      ],
      "metadata": {
        "colab": {
          "base_uri": "https://localhost:8080/"
        },
        "id": "wuyg-MwG-R6H",
        "outputId": "bb72faac-3bc2-4181-c45a-e37461779f35"
      },
      "execution_count": null,
      "outputs": [
        {
          "output_type": "execute_result",
          "data": {
            "text/plain": [
              "tensor([[0.4669, 0.9740],\n",
              "        [0.8721, 0.4376],\n",
              "        [0.8868, 0.4836]])"
            ]
          },
          "metadata": {},
          "execution_count": 2
        }
      ]
    },
    {
      "cell_type": "code",
      "source": [
        "torch.manual_seed(1)\n",
        "linear=torch.nn.Linear(in_features=2,out_features=6)\n",
        "linear\n"
      ],
      "metadata": {
        "colab": {
          "base_uri": "https://localhost:8080/"
        },
        "id": "FwW0u_iC_6Ae",
        "outputId": "24b092d7-5c5d-4187-e5a9-772ae75e4f15"
      },
      "execution_count": null,
      "outputs": [
        {
          "output_type": "execute_result",
          "data": {
            "text/plain": [
              "Linear(in_features=2, out_features=6, bias=True)"
            ]
          },
          "metadata": {},
          "execution_count": 4
        }
      ]
    },
    {
      "cell_type": "code",
      "source": [
        "x=tensor_A\n",
        "output=linear(x)\n",
        "output"
      ],
      "metadata": {
        "colab": {
          "base_uri": "https://localhost:8080/"
        },
        "id": "GYxgH3ZhADqg",
        "outputId": "caf962f1-50c0-4fe7-e48e-434ceece38ed"
      },
      "execution_count": null,
      "outputs": [
        {
          "output_type": "execute_result",
          "data": {
            "text/plain": [
              "tensor([[ 0.1244, -0.0163,  0.0507,  0.2188,  0.0641,  0.1227],\n",
              "        [ 0.4394, -0.2499, -0.4466, -0.0331,  0.1503,  0.1835],\n",
              "        [ 0.4304, -0.2366, -0.4368, -0.0187,  0.1478,  0.1880]],\n",
              "       grad_fn=<AddmmBackward0>)"
            ]
          },
          "metadata": {},
          "execution_count": 5
        }
      ]
    },
    {
      "cell_type": "code",
      "source": [
        "linear.weight.shape"
      ],
      "metadata": {
        "colab": {
          "base_uri": "https://localhost:8080/"
        },
        "id": "rXGC77dlAZd3",
        "outputId": "396fa5ab-248c-4cfd-8079-8ce30b824c08"
      },
      "execution_count": null,
      "outputs": [
        {
          "output_type": "execute_result",
          "data": {
            "text/plain": [
              "torch.Size([6, 2])"
            ]
          },
          "metadata": {},
          "execution_count": 9
        }
      ]
    },
    {
      "cell_type": "code",
      "source": [
        "x=torch.arange(1,100,10)\n",
        "x,x.shape"
      ],
      "metadata": {
        "colab": {
          "base_uri": "https://localhost:8080/"
        },
        "id": "v03QvLfMAgri",
        "outputId": "5343b92f-d687-4aac-8f35-b80920dcf3c2"
      },
      "execution_count": null,
      "outputs": [
        {
          "output_type": "execute_result",
          "data": {
            "text/plain": [
              "(tensor([ 1, 11, 21, 31, 41, 51, 61, 71, 81, 91]), torch.Size([10]))"
            ]
          },
          "metadata": {},
          "execution_count": 10
        }
      ]
    },
    {
      "cell_type": "code",
      "source": [
        "x_stacked=torch.stack([x,x,x,x],dim=0)\n",
        "x_stacked"
      ],
      "metadata": {
        "colab": {
          "base_uri": "https://localhost:8080/"
        },
        "id": "TIMxEkB1Qm8q",
        "outputId": "a59c7152-fdbd-4a0a-d23a-a0c5565afdab"
      },
      "execution_count": null,
      "outputs": [
        {
          "output_type": "execute_result",
          "data": {
            "text/plain": [
              "tensor([[ 1, 11, 21, 31, 41, 51, 61, 71, 81, 91],\n",
              "        [ 1, 11, 21, 31, 41, 51, 61, 71, 81, 91],\n",
              "        [ 1, 11, 21, 31, 41, 51, 61, 71, 81, 91],\n",
              "        [ 1, 11, 21, 31, 41, 51, 61, 71, 81, 91]])"
            ]
          },
          "metadata": {},
          "execution_count": 12
        }
      ]
    },
    {
      "cell_type": "code",
      "source": [
        "x_stacked=torch.stack([x,x,x,x],dim=1)\n",
        "x_stacked,x_stacked.shape"
      ],
      "metadata": {
        "colab": {
          "base_uri": "https://localhost:8080/"
        },
        "id": "1f2xN49HQrZe",
        "outputId": "b5939eb2-271e-4f14-b641-ac4c02ac6d2a"
      },
      "execution_count": null,
      "outputs": [
        {
          "output_type": "execute_result",
          "data": {
            "text/plain": [
              "(tensor([[ 1,  1,  1,  1],\n",
              "         [11, 11, 11, 11],\n",
              "         [21, 21, 21, 21],\n",
              "         [31, 31, 31, 31],\n",
              "         [41, 41, 41, 41],\n",
              "         [51, 51, 51, 51],\n",
              "         [61, 61, 61, 61],\n",
              "         [71, 71, 71, 71],\n",
              "         [81, 81, 81, 81],\n",
              "         [91, 91, 91, 91]]),\n",
              " torch.Size([10, 4]))"
            ]
          },
          "metadata": {},
          "execution_count": 14
        }
      ]
    },
    {
      "cell_type": "code",
      "source": [],
      "metadata": {
        "id": "xxIUSxgARDVl"
      },
      "execution_count": null,
      "outputs": []
    }
  ]
}