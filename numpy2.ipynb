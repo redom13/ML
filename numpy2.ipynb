{
 "cells": [
  {
   "cell_type": "markdown",
   "metadata": {},
   "source": [
    "#### 22. Normalize a 5x5 random matrix (★☆☆)"
   ]
  },
  {
   "cell_type": "code",
   "execution_count": 1,
   "metadata": {},
   "outputs": [
    {
     "name": "stdout",
     "output_type": "stream",
     "text": [
      "[[0.06460916 0.45466779 0.         1.         0.5796326 ]\n",
      " [0.09278098 0.07390316 0.94573148 0.27169713 0.75250868]\n",
      " [0.50469183 0.77101722 0.51939003 0.32309332 0.51341601]\n",
      " [0.7186735  0.84904452 0.02697039 0.0247527  0.70418296]\n",
      " [0.47787198 0.61147104 0.19863881 0.36704472 0.56879315]]\n"
     ]
    }
   ],
   "source": [
    "import numpy as np\n",
    "# Create a 5x5 random matrix\n",
    "matrix = np.random.random((5, 5))\n",
    "\n",
    "# Normalize the matrix\n",
    "normalized_matrix = (matrix - np.min(matrix)) / (np.max(matrix) - np.min(matrix))\n",
    "\n",
    "print(normalized_matrix)\n"
   ]
  },
  {
   "cell_type": "markdown",
   "metadata": {},
   "source": [
    "This Python code is using the NumPy library to create a 5x5 matrix of random numbers and then normalize it.\n",
    "\n",
    "1. `import numpy as np`: This line imports the NumPy library and gives it the alias `np`. NumPy is a powerful library for numerical computations in Python.\n",
    "\n",
    "2. `matrix = np.random.random((5, 5))`: This line creates a 5x5 matrix filled with random numbers. The numbers are drawn from a uniform distribution over [0, 1).\n",
    "\n",
    "3. `normalized_matrix = (matrix - np.min(matrix)) / (np.max(matrix) - np.min(matrix))`: This line normalizes the matrix. Normalization is a common operation in machine learning and statistics. It scales all values in a dataset to fall between 0 and 1. The formula for normalization is `(value - min) / (max - min)`. Here, `np.min(matrix)` finds the smallest value in the matrix, and `np.max(matrix)` finds the largest value. The operation is performed element-wise, so each value in the matrix is individually normalized.\n",
    "\n",
    "4. `print(normalized_matrix)`: This line prints the normalized matrix. After normalization, all values in the matrix will be between 0 and 1, with the smallest original value mapped to 0 and the largest original value mapped to 1."
   ]
  },
  {
   "cell_type": "code",
   "execution_count": 2,
   "metadata": {},
   "outputs": [
    {
     "name": "stdout",
     "output_type": "stream",
     "text": [
      "[[ 6  9 12]\n",
      " [15 18 21]]\n"
     ]
    }
   ],
   "source": [
    "arr=np.arange(6).reshape(2,3)\n",
    "print((arr+2)*3)"
   ]
  },
  {
   "cell_type": "markdown",
   "metadata": {},
   "source": [
    "#### 24. Multiply a 5x3 matrix by a 3x2 matrix (real matrix product) (★☆☆)"
   ]
  },
  {
   "cell_type": "code",
   "execution_count": 7,
   "metadata": {},
   "outputs": [
    {
     "name": "stdout",
     "output_type": "stream",
     "text": [
      "[[5 5 2]\n",
      " [7 6 5]\n",
      " [2 3 8]\n",
      " [5 4 2]\n",
      " [9 9 3]]\n",
      "[[ 7  6]\n",
      " [ 8 12]\n",
      " [11  5]]\n",
      "[[ 97 100]\n",
      " [152 139]\n",
      " [126  88]\n",
      " [ 89  88]\n",
      " [168 177]]\n",
      "[[ 97 100]\n",
      " [152 139]\n",
      " [126  88]\n",
      " [ 89  88]\n",
      " [168 177]]\n"
     ]
    }
   ],
   "source": [
    "arr=np.random.randint(1,10,(5,3))\n",
    "arr2=np.random.randint(5,15,(3,2))\n",
    "print(arr)\n",
    "print(arr2)\n",
    "print(arr@arr2) \n",
    "print(np.matmul(arr,arr2))\n",
    "# these 2 are used for matrix multiplication"
   ]
  },
  {
   "cell_type": "markdown",
   "metadata": {},
   "source": [
    "#### 25. Given a 1D array, negate all elements which are between 3 and 8, in place. (★☆☆)"
   ]
  },
  {
   "cell_type": "code",
   "execution_count": 12,
   "metadata": {},
   "outputs": [
    {
     "name": "stdout",
     "output_type": "stream",
     "text": [
      "[8 4 2 8 1 7 3 3 6 8 3 9 7 3 9]\n",
      "[-8 -4  2 -8  1 -7 -3 -3 -6 -8 -3  9 -7 -3  9]\n",
      "(array([11, 14], dtype=int64),)\n"
     ]
    }
   ],
   "source": [
    "arr=np.random.randint(1,10,15)\n",
    "print(arr)\n",
    "arr=np.where((arr>=3) & (arr<=8),arr*-1,arr) # Checks element-wise\n",
    "# If satisfied,2nd arg is executed i.e those elements will be negated,else 3rd arg\n",
    "print(arr)\n",
    "print(np.where(arr>5)) # Returns the indices of elem satisfying this cond. as an array"
   ]
  },
  {
   "cell_type": "markdown",
   "metadata": {},
   "source": [
    "#### 30. How to find common values between two arrays? (★☆☆)"
   ]
  },
  {
   "cell_type": "code",
   "execution_count": 13,
   "metadata": {},
   "outputs": [
    {
     "name": "stdout",
     "output_type": "stream",
     "text": [
      "[3 5]\n"
     ]
    }
   ],
   "source": [
    "arr1=np.array([1,2,3,4,5])\n",
    "arr2=np.array([5,6,3,7,9])\n",
    "print(np.intersect1d(arr1,arr2))"
   ]
  },
  {
   "cell_type": "markdown",
   "metadata": {},
   "source": [
    "#### 29. How to round away from zero a float array ? (★☆☆)"
   ]
  },
  {
   "cell_type": "code",
   "execution_count": 15,
   "metadata": {},
   "outputs": [
    {
     "name": "stdout",
     "output_type": "stream",
     "text": [
      "[2. 3. 5.]\n"
     ]
    }
   ],
   "source": [
    "float_array=[1.2,3,5]\n",
    "rounded_array = np.ceil(float_array)\n",
    "print(rounded_array)"
   ]
  },
  {
   "cell_type": "code",
   "execution_count": 16,
   "metadata": {},
   "outputs": [
    {
     "name": "stdout",
     "output_type": "stream",
     "text": [
      "False\n"
     ]
    },
    {
     "name": "stderr",
     "output_type": "stream",
     "text": [
      "C:\\Users\\ASUS\\AppData\\Local\\Temp\\ipykernel_19760\\3643901316.py:1: RuntimeWarning: invalid value encountered in sqrt\n",
      "  print(np.sqrt(-1)==np.emath.sqrt(-1))\n"
     ]
    }
   ],
   "source": [
    "print(np.sqrt(-1)==np.emath.sqrt(-1))"
   ]
  },
  {
   "cell_type": "markdown",
   "metadata": {},
   "source": [
    "This Python code is using the NumPy library to compare the results of two different square root functions: `np.sqrt` and `np.emath.sqrt`.\n",
    "\n",
    "The expression `np.sqrt(-1)` attempts to calculate the square root of -1 using NumPy's standard square root function. However, the square root of a negative number is not a real number, it's an imaginary number. In the real number domain, this operation is not defined, so `np.sqrt` returns `np.nan` (Not a Number).\n",
    "\n",
    "On the other hand, `np.emath.sqrt(-1)` calculates the square root of -1 using the `emath` (short for \"extended math\") module in NumPy, which supports more complex mathematical operations. The `emath.sqrt` function can handle negative inputs by returning an imaginary number. In this case, it returns `1j`, which is the imaginary unit in Python (equivalent to [`i`](command:_github.copilot.openSymbolInFile?%5B%22c%3A%2FUsers%2FASUS%2F.vscode%2Fextensions%2Fms-python.vscode-pylance-2024.4.1%2Fdist%2Ftypeshed-fallback%2Fstdlib%2Fbuiltins.pyi%22%2C%22i%22%5D \"c:/Users/ASUS/.vscode/extensions/ms-python.vscode-pylance-2024.4.1/dist/typeshed-fallback/stdlib/builtins.pyi\") in mathematics).\n",
    "\n",
    "So, the expression `np.sqrt(-1) == np.emath.sqrt(-1)` is comparing `np.nan` to `1j`. Since these two values are not equal, the expression returns `False`.\n",
    "\n",
    "The [`print`](command:_github.copilot.openSymbolInFile?%5B%22c%3A%2FUsers%2FASUS%2F.vscode%2Fextensions%2Fms-python.vscode-pylance-2024.4.1%2Fdist%2Ftypeshed-fallback%2Fstdlib%2Fbuiltins.pyi%22%2C%22print%22%5D \"c:/Users/ASUS/.vscode/extensions/ms-python.vscode-pylance-2024.4.1/dist/typeshed-fallback/stdlib/builtins.pyi\") function then outputs this result, so the code prints `False`."
   ]
  },
  {
   "cell_type": "markdown",
   "metadata": {},
   "source": [
    "#### 34. How to get all the dates corresponding to the month of July 2016? (★★☆)"
   ]
  },
  {
   "cell_type": "code",
   "execution_count": 17,
   "metadata": {},
   "outputs": [
    {
     "name": "stdout",
     "output_type": "stream",
     "text": [
      "['2016-07-01' '2016-07-02' '2016-07-03' '2016-07-04' '2016-07-05'\n",
      " '2016-07-06' '2016-07-07' '2016-07-08' '2016-07-09' '2016-07-10'\n",
      " '2016-07-11' '2016-07-12' '2016-07-13' '2016-07-14' '2016-07-15'\n",
      " '2016-07-16' '2016-07-17' '2016-07-18' '2016-07-19' '2016-07-20'\n",
      " '2016-07-21' '2016-07-22' '2016-07-23' '2016-07-24' '2016-07-25'\n",
      " '2016-07-26' '2016-07-27' '2016-07-28' '2016-07-29' '2016-07-30'\n",
      " '2016-07-31']\n"
     ]
    }
   ],
   "source": [
    "print(np.arange('2016-07','2016-08',dtype='datetime64[D]'))"
   ]
  },
  {
   "cell_type": "code",
   "execution_count": 24,
   "metadata": {},
   "outputs": [
    {
     "name": "stdout",
     "output_type": "stream",
     "text": [
      "2024-04-28\n",
      "2024-04-27\n",
      "2024-04-29\n"
     ]
    }
   ],
   "source": [
    "today=np.datetime64('today','D')\n",
    "print(today)\n",
    "yesterday=np.datetime64('today','D')-np.timedelta64(1,\"D\") # timedelta is for diff\n",
    "print(yesterday)\n",
    "tomorrow=np.datetime64('today','D')+np.timedelta64(1,'D')\n",
    "print(tomorrow)"
   ]
  },
  {
   "cell_type": "markdown",
   "metadata": {},
   "source": [
    "#### 37. Create a 5x5 matrix with row values ranging from 0 to 4 (★★☆)"
   ]
  },
  {
   "cell_type": "code",
   "execution_count": 25,
   "metadata": {},
   "outputs": [
    {
     "name": "stdout",
     "output_type": "stream",
     "text": [
      "[[3 1 4 0 4]\n",
      " [3 0 1 4 2]\n",
      " [2 3 2 3 0]\n",
      " [2 3 2 3 1]\n",
      " [3 4 4 2 3]]\n"
     ]
    }
   ],
   "source": [
    "print(np.random.randint(0,5,(5,5)))"
   ]
  },
  {
   "cell_type": "markdown",
   "metadata": {},
   "source": [
    "#### 40. Create a random vector of size 10 and sort it (★★☆)"
   ]
  },
  {
   "cell_type": "code",
   "execution_count": 27,
   "metadata": {},
   "outputs": [
    {
     "name": "stdout",
     "output_type": "stream",
     "text": [
      "[21 22 23 30 36 48 58 67 74 83]\n"
     ]
    }
   ],
   "source": [
    "print(np.sort(np.random.randint(1,100,10)))"
   ]
  }
 ],
 "metadata": {
  "kernelspec": {
   "display_name": "Python 3",
   "language": "python",
   "name": "python3"
  },
  "language_info": {
   "codemirror_mode": {
    "name": "ipython",
    "version": 3
   },
   "file_extension": ".py",
   "mimetype": "text/x-python",
   "name": "python",
   "nbconvert_exporter": "python",
   "pygments_lexer": "ipython3",
   "version": "3.11.9"
  }
 },
 "nbformat": 4,
 "nbformat_minor": 2
}
