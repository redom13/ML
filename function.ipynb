{
 "cells": [
  {
   "cell_type": "markdown",
   "metadata": {},
   "source": [
    "## Exercise - Data Analysis for Vacation Planning\n",
    "\n",
    "You're planning a vacation, and you need to decide which city you want to visit. You have shortlisted four cities and identified the return flight cost, daily hotel cost, and weekly car rental cost. While renting a car, you need to pay for entire weeks, even if you return the car sooner.\n",
    "\n",
    "\n",
    "| City | Return Flight (`$`) | Hotel per day (`$`) | Weekly Car Rental  (`$`) | \n",
    "|------|--------------------------|------------------|------------------------|\n",
    "| Paris|       200                |       20         |          200           |\n",
    "| London|      250                |       30         |          120           |\n",
    "| Dubai|       370                |       15         |          80           |\n",
    "| Mumbai|      450                |       10         |          70           |         \n",
    "\n",
    "\n",
    "Answer the following questions using the data above:\n",
    "\n",
    "1. If you're planning a 1-week long trip, which city should you visit to spend the least amount of money?\n",
    "2. How does the answer to the previous question change if you change the trip's duration to four days, ten days or two weeks?\n",
    "3. If your total budget for the trip is `$1000`, which city should you visit to maximize the duration of your trip? Which city should you visit if you want to minimize the duration?\n",
    "4. How does the answer to the previous question change if your budget is `$600`, `$2000`, or `$1500`?\n",
    "\n",
    "*Hint: To answer these questions, it will help to define a function `cost_of_trip` with relevant inputs like flight cost, hotel rate, car rental rate, and duration of the trip. You may find the `math.ceil` function useful for calculating the total cost of car rental.*"
   ]
  },
  {
   "cell_type": "code",
   "execution_count": 1,
   "metadata": {},
   "outputs": [],
   "source": [
    "import math\n",
    "def cost_of_trip(flight_cost,hotel_rate,car_rate,duration): \n",
    "    \"\"\"Calculates the total cost for a trip\n",
    "\n",
    "    Arguments:\n",
    "        flight_cost - Cost of return flight from a city\n",
    "        hotel_rate - Daily cost for a hotel in that city\n",
    "        car_rate - Weekly car rental price(even if needed for just a day,gotta pay for the whole week)\n",
    "        duration - Number of days one wants to stay\n",
    "    \"\"\" # This was docstring. Telling about the function. Shown when help(cost_of_trip) is executed\n",
    "        # Appears b4 all other things of the function\n",
    "    total_cost=flight_cost+hotel_rate*duration+car_rate*math.ceil(duration/7)\n",
    "    return total_cost"
   ]
  },
  {
   "cell_type": "code",
   "execution_count": 5,
   "metadata": {},
   "outputs": [
    {
     "name": "stdout",
     "output_type": "stream",
     "text": [
      "Cheapest city to travel: Paris\n"
     ]
    }
   ],
   "source": [
    "# 0-Paris,1-London,2-Dubai,3-Mumbai\n",
    "cities=['Paris','London','Dubai','Mumbai']\n",
    "flight_cost_list=[200,250,370,450]\n",
    "hotel_cost_list=[20,30,15,10]\n",
    "car_rental_list=[200,120,80,70]\n",
    "\n",
    "total_cost_list=[]\n",
    "for i in range(4):\n",
    "    total_cost_list.append(cost_of_trip(flight_cost=flight_cost_list[i],hotel_rate=hotel_cost_list[i],car_rate=car_rental_list[i],duration=7))\n",
    "min_cost=min(total_cost_list)\n",
    "for i in range(len(cities)):\n",
    "    if total_cost_list[i]==min_cost:\n",
    "        print(f\"Cheapest city to travel: {cities[i]}\")"
   ]
  },
  {
   "cell_type": "code",
   "execution_count": 7,
   "metadata": {},
   "outputs": [
    {
     "name": "stdout",
     "output_type": "stream",
     "text": [
      "Cheapest city to travel for duration of 4 days: Paris\n",
      "Cheapest city to travel for duration of 7 days: Paris\n",
      "Cheapest city to travel for duration of 10 days: Dubai\n",
      "Cheapest city to travel for duration of 14 days: Mumbai\n"
     ]
    }
   ],
   "source": [
    "durations=[4,7,10,14]\n",
    "for days in durations:\n",
    "    total_cost_list=[]\n",
    "    for i in range(4):\n",
    "        total_cost_list.append(cost_of_trip(flight_cost=flight_cost_list[i],hotel_rate=hotel_cost_list[i],car_rate=car_rental_list[i],duration=days))\n",
    "    min_cost=min(total_cost_list)\n",
    "    for i in range(len(cities)):\n",
    "        if total_cost_list[i]==min_cost:\n",
    "            print(f\"Cheapest city to travel for duration of {days} days: {cities[i]}\")"
   ]
  },
  {
   "cell_type": "code",
   "execution_count": 14,
   "metadata": {},
   "outputs": [
    {
     "name": "stdout",
     "output_type": "stream",
     "text": [
      "Maximum duration for which one can stay in Paris for $1000: 14 days\n",
      "Maximum duration for which one can stay in London for $1000: 14 days\n",
      "Maximum duration for which one can stay in Dubai for $1000: 21 days\n",
      "Maximum duration for which one can stay in Mumbai for $1000: 27 days\n",
      "Cost of trip to Mumbai for 27 days: 1000\n"
     ]
    }
   ],
   "source": [
    "for i in range(len(cities)):\n",
    "    duration=0\n",
    "    cost=0\n",
    "    while cost<=1000:\n",
    "        duration+=1\n",
    "        cost=cost_of_trip(flight_cost=flight_cost_list[i],hotel_rate=hotel_cost_list[i],car_rate=car_rental_list[i],duration=duration)\n",
    "    print(f\"Maximum duration for which one can stay in {cities[i]} for $1000: {duration-1} days\")\n",
    "mumbai_cost=cost_of_trip(flight_cost=flight_cost_list[3],hotel_rate=hotel_cost_list[3],car_rate=car_rental_list[3],duration=27)\n",
    "print(f\"Cost of trip to Mumbai for 27 days: {mumbai_cost}\")"
   ]
  },
  {
   "cell_type": "code",
   "execution_count": 12,
   "metadata": {},
   "outputs": [
    {
     "name": "stdout",
     "output_type": "stream",
     "text": [
      "Maximum duration for which one can stay in Paris for $600: 7 days\n",
      "Maximum duration for which one can stay in London for $600: 7 days\n",
      "Maximum duration for which one can stay in Dubai for $600: 7 days\n",
      "Maximum duration for which one can stay in Mumbai for $600: 7 days\n",
      "Maximum duration for which one can stay in Paris for $1500: 25 days\n",
      "Maximum duration for which one can stay in London for $1500: 25 days\n",
      "Maximum duration for which one can stay in Dubai for $1500: 42 days\n",
      "Maximum duration for which one can stay in Mumbai for $1500: 49 days\n",
      "Maximum duration for which one can stay in Paris for $2000: 35 days\n",
      "Maximum duration for which one can stay in London for $2000: 35 days\n",
      "Maximum duration for which one can stay in Dubai for $2000: 60 days\n",
      "Maximum duration for which one can stay in Mumbai for $2000: 77 days\n"
     ]
    }
   ],
   "source": [
    "cost_list=[600,1500,2000]\n",
    "for cost in cost_list:\n",
    "    for i in range(len(cities)):\n",
    "        duration=0\n",
    "        cost1=0\n",
    "        while cost1<=cost:\n",
    "            duration+=1\n",
    "            cost1=cost_of_trip(flight_cost=flight_cost_list[i],hotel_rate=hotel_cost_list[i],car_rate=car_rental_list[i],duration=duration)\n",
    "        print(f\"Maximum duration for which one can stay in {cities[i]} for ${cost}: {duration-1} days\")"
   ]
  },
  {
   "cell_type": "code",
   "execution_count": null,
   "metadata": {},
   "outputs": [],
   "source": []
  }
 ],
 "metadata": {
  "kernelspec": {
   "display_name": "Python 3",
   "language": "python",
   "name": "python3"
  },
  "language_info": {
   "codemirror_mode": {
    "name": "ipython",
    "version": 3
   },
   "file_extension": ".py",
   "mimetype": "text/x-python",
   "name": "python",
   "nbconvert_exporter": "python",
   "pygments_lexer": "ipython3",
   "version": "3.11.9"
  }
 },
 "nbformat": 4,
 "nbformat_minor": 2
}
