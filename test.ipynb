{
 "cells": [
  {
   "cell_type": "code",
   "execution_count": null,
   "metadata": {},
   "outputs": [],
   "source": [
    "a=10\n",
    "print(a)"
   ]
  },
  {
   "cell_type": "markdown",
   "metadata": {},
   "source": [
    "# This is my first Note"
   ]
  },
  {
   "cell_type": "markdown",
   "metadata": {},
   "source": [
    "## Wishlist\n",
    "* Python\n",
    "* Numpy\n",
    "* Panda\n",
    "* Matplotlib"
   ]
  },
  {
   "cell_type": "markdown",
   "metadata": {},
   "source": [
    "### Data Type  \n",
    "<span style=\"color:red\">Double space `' '` for newline.</span>  \n",
    "`''' '''` for multiline string  \n",
    "list is equivalent to array"
   ]
  },
  {
   "cell_type": "code",
   "execution_count": 10,
   "metadata": {},
   "outputs": [
    {
     "name": "stdout",
     "output_type": "stream",
     "text": [
      "This is my List:  [1, 2, 3, 4, 5]\n",
      "['H', 'e', 'y', '\\n', ' ', 'g', 'u', 'y', 's']\n",
      "Hey\n",
      " guys\n",
      "y\n"
     ]
    },
    {
     "data": {
      "text/plain": [
       "str"
      ]
     },
     "execution_count": 10,
     "metadata": {},
     "output_type": "execute_result"
    }
   ],
   "source": [
    "myList=[1,2,3,4,5]\n",
    "print(\"This is my List: \",myList)\n",
    "s=\"Hey\\n guys\"\n",
    "print(list(s))\n",
    "print(s)\n",
    "s2='''Hey\n",
    "guys'''\n",
    "print(s2[2])\n",
    "type(s2)"
   ]
  },
  {
   "cell_type": "code",
   "execution_count": 12,
   "metadata": {},
   "outputs": [
    {
     "name": "stdout",
     "output_type": "stream",
     "text": [
      "5.0\n",
      "<class 'float'>\n",
      "5\n"
     ]
    },
    {
     "data": {
      "text/plain": [
       "int"
      ]
     },
     "execution_count": 12,
     "metadata": {},
     "output_type": "execute_result"
    }
   ],
   "source": [
    "print(10/2)\n",
    "print(type(10/2))\n",
    "print(10//2)\n",
    "type(10//2)"
   ]
  },
  {
   "cell_type": "markdown",
   "metadata": {},
   "source": [
    "<span style=\"color:red\">None</span> is maybe equi. to NULL."
   ]
  },
  {
   "cell_type": "code",
   "execution_count": 13,
   "metadata": {},
   "outputs": [
    {
     "data": {
      "text/plain": [
       "NoneType"
      ]
     },
     "execution_count": 13,
     "metadata": {},
     "output_type": "execute_result"
    }
   ],
   "source": [
    "nothing = None\n",
    "type(nothing)"
   ]
  },
  {
   "cell_type": "code",
   "execution_count": 26,
   "metadata": {},
   "outputs": [
    {
     "name": "stdout",
     "output_type": "stream",
     "text": [
      "day\n",
      "Hectic day\n",
      "True\n",
      "False\n",
      "True\n",
      "Sunday\n"
     ]
    }
   ],
   "source": [
    "today=\"Saturday\"\n",
    "print(today[5:8])\n",
    "# 8 is the index after the last one and it is not included in the output\n",
    "print(\"Hectic\",today[5:])\n",
    "print(\"Sat\" in today)\n",
    "print(\"Sun\" in today)\n",
    "print(\"Sun\" not in today)\n",
    "today=today.replace(\"Satur\",\"Sun\")\n",
    "print(today)"
   ]
  },
  {
   "cell_type": "code",
   "execution_count": null,
   "metadata": {},
   "outputs": [],
   "source": []
  }
 ],
 "metadata": {
  "kernelspec": {
   "display_name": "Python 3",
   "language": "python",
   "name": "python3"
  },
  "language_info": {
   "codemirror_mode": {
    "name": "ipython",
    "version": 3
   },
   "file_extension": ".py",
   "mimetype": "text/x-python",
   "name": "python",
   "nbconvert_exporter": "python",
   "pygments_lexer": "ipython3",
   "version": "3.11.9"
  }
 },
 "nbformat": 4,
 "nbformat_minor": 2
}
