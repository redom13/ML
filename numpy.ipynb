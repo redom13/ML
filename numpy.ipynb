{
 "cells": [
  {
   "cell_type": "code",
   "execution_count": 2,
   "metadata": {},
   "outputs": [],
   "source": [
    "import numpy as np"
   ]
  },
  {
   "cell_type": "markdown",
   "metadata": {},
   "source": [
    "### Create a null vector"
   ]
  },
  {
   "cell_type": "code",
   "execution_count": 6,
   "metadata": {},
   "outputs": [
    {
     "name": "stdout",
     "output_type": "stream",
     "text": [
      "[0 0 0 0 0 0 0 0 0 0]\n",
      "10\n"
     ]
    }
   ],
   "source": [
    "null_vector = np.zeros(10, dtype=int)\n",
    "print(null_vector)\n",
    "print(null_vector.size)\n",
    "# arr=np.array()"
   ]
  },
  {
   "cell_type": "markdown",
   "metadata": {},
   "source": [
    "### Create a Null vector of size 10 but 5th value is 1"
   ]
  },
  {
   "cell_type": "code",
   "execution_count": 8,
   "metadata": {},
   "outputs": [
    {
     "name": "stdout",
     "output_type": "stream",
     "text": [
      "[0 0 0 0 1 0 0 0 0 0]\n"
     ]
    }
   ],
   "source": [
    "null_vector[4] = 1\n",
    "print(null_vector)"
   ]
  },
  {
   "cell_type": "markdown",
   "metadata": {},
   "source": [
    "### Create a vector with values ranging from `10` to `49`"
   ]
  },
  {
   "cell_type": "code",
   "execution_count": 9,
   "metadata": {},
   "outputs": [
    {
     "name": "stdout",
     "output_type": "stream",
     "text": [
      "[10 11 12 13 14 15 16 17 18 19 20 21 22 23 24 25 26 27 28 29 30 31 32 33\n",
      " 34 35 36 37 38 39 40 41 42 43 44 45 46 47 48 49]\n"
     ]
    }
   ],
   "source": [
    "arr=np.arange(10,50)\n",
    "print(arr)"
   ]
  },
  {
   "cell_type": "markdown",
   "metadata": {},
   "source": [
    "### Reverse a Vector `+` Create a 3x3 matrix with values ranging from 0 to 8"
   ]
  },
  {
   "cell_type": "code",
   "execution_count": 18,
   "metadata": {},
   "outputs": [
    {
     "name": "stdout",
     "output_type": "stream",
     "text": [
      "[49 48 47 46 45 44 43 42 41 40 39 38 37 36 35 34 33 32 31 30 29 28 27 26\n",
      " 25 24 23 22 21 20 19 18 17 16 15 14 13 12 11 10]\n",
      "[49 48 47 46 45 44 43 42 41 40 39 38 37 36 35 34 33 32 31 30 29 28 27 26\n",
      " 25 24 23 22 21 20 19 18 17 16 15 14 13 12 11 10]\n",
      "[[[0 1]\n",
      "  [2 3]]\n",
      "\n",
      " [[4 5]\n",
      "  [6 7]]]\n",
      "[[[4 5]\n",
      "  [6 7]]\n",
      "\n",
      " [[0 1]\n",
      "  [2 3]]]\n",
      "[[[2 3]\n",
      "  [0 1]]\n",
      "\n",
      " [[6 7]\n",
      "  [4 5]]]\n",
      "[[[1 0]\n",
      "  [3 2]]\n",
      "\n",
      " [[5 4]\n",
      "  [7 6]]]\n"
     ]
    }
   ],
   "source": [
    "reversed_arr = arr[::-1]\n",
    "print(reversed_arr)\n",
    "reversed_arr2=np.flip(arr)\n",
    "print(reversed_arr2)\n",
    "new_arr=np.arange(8).reshape(2,2,2)\n",
    "print(new_arr)\n",
    "print(np.flip(new_arr,0)) # Flip w.r.t axis 0 i.e the 1st axis\n",
    "# As the size is 2x2x2,1st flipping w.r.t 1st axis means simply flipping the 2 2d arrays\n",
    "print(np.flip(new_arr,1))\n",
    "# Now the 2d arrays will be filpped i.e the elements of the 2d arrays will be reversed(which is 1d array)\n",
    "# But the relative position of the 2D arrays themselves will be the same\n",
    "print(np.flip(new_arr,2))\n",
    "# Same logic for this. This time every 1D array will be reversed"
   ]
  },
  {
   "cell_type": "markdown",
   "metadata": {},
   "source": [
    "### Find indices of non-zero elements from `[1,2,0,0,4,0]`"
   ]
  },
  {
   "cell_type": "code",
   "execution_count": 34,
   "metadata": {},
   "outputs": [
    {
     "name": "stdout",
     "output_type": "stream",
     "text": [
      "[1 2 0 0 4 0]\n",
      "(array([0, 1, 4], dtype=int64),)\n",
      "(array([2, 3, 5], dtype=int64),)\n"
     ]
    }
   ],
   "source": [
    "arr=np.array([1,2,0,0,4,0])\n",
    "print(arr)\n",
    "non_zero_indices = np.nonzero(arr)\n",
    "print(non_zero_indices)\n",
    "zero_indices = np.where(arr == 0) # ==,>,< all allowed,any number(not only 0) allowed\n",
    "print(zero_indices)"
   ]
  },
  {
   "cell_type": "markdown",
   "metadata": {},
   "source": [
    "### 3x3 Identity Matrix"
   ]
  },
  {
   "cell_type": "code",
   "execution_count": 37,
   "metadata": {},
   "outputs": [
    {
     "name": "stdout",
     "output_type": "stream",
     "text": [
      "[[1 0 0]\n",
      " [0 1 0]\n",
      " [0 0 1]]\n"
     ]
    }
   ],
   "source": [
    "arr=np.eye(3,dtype=int)\n",
    "print(arr)"
   ]
  },
  {
   "cell_type": "markdown",
   "metadata": {},
   "source": [
    "### 3x3x3 matrix with random values"
   ]
  },
  {
   "cell_type": "code",
   "execution_count": 40,
   "metadata": {},
   "outputs": [
    {
     "name": "stdout",
     "output_type": "stream",
     "text": [
      "[[[ 1.36869919  0.11567157  0.12851302]\n",
      "  [ 0.53167367  1.3209158  -0.27470666]\n",
      "  [ 1.09489131  1.66042451  1.24973076]]\n",
      "\n",
      " [[ 1.81491271  0.89941367 -1.0922314 ]\n",
      "  [ 0.08462808  0.31858122 -0.50328476]\n",
      "  [ 0.374599   -0.27757042 -0.1905966 ]]\n",
      "\n",
      " [[-1.5610244  -0.2822281  -1.13131615]\n",
      "  [ 0.95329995 -0.42989859  0.8223401 ]\n",
      "  [ 0.80062032  2.04966293 -0.10888562]]]\n"
     ]
    }
   ],
   "source": [
    "print(np.random.randn(3,3,3)) \n",
    "# rand--> Only +ve\n",
    "# randn--> both +ve & -ve"
   ]
  },
  {
   "cell_type": "markdown",
   "metadata": {},
   "source": [
    "### Create a 10x10 array with random values and find the minimum and maximum values "
   ]
  },
  {
   "cell_type": "code",
   "execution_count": 45,
   "metadata": {},
   "outputs": [
    {
     "name": "stdout",
     "output_type": "stream",
     "text": [
      "Min: 0.0014421201495554703,Max: 0.9889899497548167\n"
     ]
    }
   ],
   "source": [
    "randArr=np.random.rand(10,10)\n",
    "#print(randArr)\n",
    "print(f\"Min: {np.min(randArr)},Max: {np.max(randArr)}\")\n"
   ]
  },
  {
   "cell_type": "markdown",
   "metadata": {},
   "source": [
    "#### 15. Create a 2d array with 1 on the border and 0 inside (★☆☆)"
   ]
  },
  {
   "cell_type": "code",
   "execution_count": 13,
   "metadata": {},
   "outputs": [
    {
     "name": "stdout",
     "output_type": "stream",
     "text": [
      "[[1 1]\n",
      " [1 1]]\n",
      "[[1 1 1 1]\n",
      " [1 0 0 1]\n",
      " [1 0 0 1]\n",
      " [1 1 1 1]]\n"
     ]
    }
   ],
   "source": [
    "n=4\n",
    "# arr=np.full((n,n),1)\n",
    "# print(arr) \n",
    "# print(arr-np.zeros_like(n))\n",
    "# one=np.full((n,),1)\n",
    "# vertOne=one.reshape((n,1))\n",
    "# print(one)\n",
    "# print(vertOne)\n",
    "# print(arr+vertOne)\n",
    "# arr=np.full(n,-1)\n",
    "# arr[0],arr[n-1]=0,0\n",
    "# print(arr)\n",
    "# print(vertOne+arr)\n",
    "arr = np.ones((n, n),dtype=int)\n",
    "print(arr[1:-1, 1:-1])\n",
    "arr[1:-1, 1:-1] = 0 # Slicing to select subarray and modify\n",
    "print(arr)"
   ]
  },
  {
   "cell_type": "code",
   "execution_count": 12,
   "metadata": {},
   "outputs": [
    {
     "ename": "ValueError",
     "evalue": "setting an array element with a sequence. The requested array has an inhomogeneous shape after 1 dimensions. The detected shape was (2,) + inhomogeneous part.",
     "output_type": "error",
     "traceback": [
      "\u001b[1;31m---------------------------------------------------------------------------\u001b[0m",
      "\u001b[1;31mValueError\u001b[0m                                Traceback (most recent call last)",
      "Cell \u001b[1;32mIn[12], line 1\u001b[0m\n\u001b[1;32m----> 1\u001b[0m arr\u001b[38;5;241m=\u001b[39m\u001b[43mnp\u001b[49m\u001b[38;5;241;43m.\u001b[39;49m\u001b[43marray\u001b[49m\u001b[43m(\u001b[49m\u001b[43m[\u001b[49m\u001b[43m[\u001b[49m\u001b[38;5;241;43m1\u001b[39;49m\u001b[43m,\u001b[49m\u001b[38;5;241;43m2\u001b[39;49m\u001b[43m,\u001b[49m\u001b[38;5;241;43m3\u001b[39;49m\u001b[43m]\u001b[49m\u001b[43m,\u001b[49m\n\u001b[0;32m      2\u001b[0m \u001b[43m              \u001b[49m\u001b[43m[\u001b[49m\u001b[38;5;241;43m2\u001b[39;49m\u001b[43m,\u001b[49m\u001b[38;5;241;43m4\u001b[39;49m\u001b[43m]\u001b[49m\u001b[43m]\u001b[49m\u001b[43m)\u001b[49m\n\u001b[0;32m      3\u001b[0m \u001b[38;5;28mprint\u001b[39m(arr)\n",
      "\u001b[1;31mValueError\u001b[0m: setting an array element with a sequence. The requested array has an inhomogeneous shape after 1 dimensions. The detected shape was (2,) + inhomogeneous part."
     ]
    }
   ],
   "source": [
    "arr=np.array([[1,2,3],\n",
    "              [2,4]])   # Can't create this kind of arrays\n",
    "print(arr)"
   ]
  },
  {
   "cell_type": "code",
   "execution_count": 18,
   "metadata": {},
   "outputs": [
    {
     "name": "stdout",
     "output_type": "stream",
     "text": [
      "[[1 2 3 0]\n",
      " [2 4 6 1]]\n"
     ]
    }
   ],
   "source": [
    "arr=np.array([[1,2,3],\n",
    "              [2,4,6]])\n",
    "print(np.concatenate((arr,np.arange(2).reshape(2,1)),axis=1))"
   ]
  },
  {
   "cell_type": "code",
   "execution_count": 19,
   "metadata": {},
   "outputs": [
    {
     "ename": "ValueError",
     "evalue": "all the input array dimensions except for the concatenation axis must match exactly, but along dimension 1, the array at index 0 has size 3 and the array at index 1 has size 1",
     "output_type": "error",
     "traceback": [
      "\u001b[1;31m---------------------------------------------------------------------------\u001b[0m",
      "\u001b[1;31mValueError\u001b[0m                                Traceback (most recent call last)",
      "Cell \u001b[1;32mIn[19], line 3\u001b[0m\n\u001b[0;32m      1\u001b[0m arr\u001b[38;5;241m=\u001b[39mnp\u001b[38;5;241m.\u001b[39marray([[\u001b[38;5;241m1\u001b[39m,\u001b[38;5;241m2\u001b[39m,\u001b[38;5;241m3\u001b[39m],\n\u001b[0;32m      2\u001b[0m               [\u001b[38;5;241m2\u001b[39m,\u001b[38;5;241m4\u001b[39m,\u001b[38;5;241m6\u001b[39m]])\n\u001b[1;32m----> 3\u001b[0m \u001b[38;5;28mprint\u001b[39m(\u001b[43mnp\u001b[49m\u001b[38;5;241;43m.\u001b[39;49m\u001b[43mconcatenate\u001b[49m\u001b[43m(\u001b[49m\u001b[43m(\u001b[49m\u001b[43marr\u001b[49m\u001b[43m,\u001b[49m\u001b[43mnp\u001b[49m\u001b[38;5;241;43m.\u001b[39;49m\u001b[43marange\u001b[49m\u001b[43m(\u001b[49m\u001b[38;5;241;43m2\u001b[39;49m\u001b[43m)\u001b[49m\u001b[38;5;241;43m.\u001b[39;49m\u001b[43mreshape\u001b[49m\u001b[43m(\u001b[49m\u001b[38;5;241;43m2\u001b[39;49m\u001b[43m,\u001b[49m\u001b[38;5;241;43m1\u001b[39;49m\u001b[43m)\u001b[49m\u001b[43m)\u001b[49m\u001b[43m,\u001b[49m\u001b[43maxis\u001b[49m\u001b[38;5;241;43m=\u001b[39;49m\u001b[38;5;241;43m0\u001b[39;49m\u001b[43m)\u001b[49m)\n",
      "\u001b[1;31mValueError\u001b[0m: all the input array dimensions except for the concatenation axis must match exactly, but along dimension 1, the array at index 0 has size 3 and the array at index 1 has size 1"
     ]
    }
   ],
   "source": [
    "arr=np.array([[1,2,3],\n",
    "              [2,4,6]])\n",
    "print(np.concatenate((arr,np.arange(2).reshape(2,1)),axis=0)) # This is not allowed"
   ]
  },
  {
   "cell_type": "markdown",
   "metadata": {},
   "source": [
    "#### 16. How to add a border (filled with 0's) around an existing array? (★☆☆)"
   ]
  },
  {
   "cell_type": "code",
   "execution_count": 23,
   "metadata": {},
   "outputs": [
    {
     "name": "stdout",
     "output_type": "stream",
     "text": [
      "[[ 1  2  3  4  5]\n",
      " [ 6  7  8  9 10]\n",
      " [11 12 13 14 15]\n",
      " [16 17 18 19 20]\n",
      " [21 22 23 24 25]]\n",
      "[[ 0  0  0  0  0]\n",
      " [ 0  7  8  9  0]\n",
      " [ 0 12 13 14  0]\n",
      " [ 0 17 18 19  0]\n",
      " [ 0  0  0  0  0]]\n"
     ]
    }
   ],
   "source": [
    "n=5\n",
    "arr=np.arange(1,n**2+1,dtype=int).reshape(n,n)\n",
    "print(arr)\n",
    "tmp=np.array(arr)\n",
    "# print(tmp)\n",
    "tmp[1:-1,1:-1]=0 # Now tmp has zeros at the centre\n",
    "print(arr-tmp)"
   ]
  },
  {
   "cell_type": "markdown",
   "metadata": {},
   "source": [
    "#### 17. What is the result of the following expression? (★☆☆)\n",
    "```python\n",
    "0 * np.nan\n",
    "np.nan == np.nan\n",
    "np.inf > np.nan\n",
    "np.nan - np.nan\n",
    "np.nan in set([np.nan])\n",
    "0.3 == 3 * 0.1\n",
    "```"
   ]
  },
  {
   "cell_type": "code",
   "execution_count": 27,
   "metadata": {},
   "outputs": [
    {
     "name": "stdout",
     "output_type": "stream",
     "text": [
      "nan\n",
      "False\n",
      "False\n",
      "nan\n",
      "True\n",
      "False\n"
     ]
    }
   ],
   "source": [
    "print(0 * np.nan)\n",
    "print(np.nan == np.nan)\n",
    "print(np.inf > np.nan)\n",
    "print(np.nan - np.nan)\n",
    "print(np.nan in set([np.nan]))\n",
    "print(0.3 == 3 * 0.1)"
   ]
  },
  {
   "cell_type": "markdown",
   "metadata": {},
   "source": [
    "This Python code is using the NumPy library to demonstrate some peculiarities of floating-point arithmetic and the special values `np.nan` (Not a Number) and `np.inf` (Infinity).\n",
    "\n",
    "1. `print(0 * np.nan)`: This line multiplies 0 by `np.nan`. According to IEEE floating-point standards, any operation involving `np.nan` results in `np.nan`, so this will print `nan`.\n",
    "\n",
    "2. `print(np.nan == np.nan)`: This line checks if `np.nan` is equal to itself. Surprisingly, this will print `False`. This is because `np.nan` is not considered equal to any value, including itself.\n",
    "\n",
    "3. `print(np.inf > np.nan)`: This line checks if `np.inf` is greater than `np.nan`. This will print `False` because comparisons with `np.nan` are always false, even when comparing `np.nan` with itself.\n",
    "\n",
    "4. `print(np.nan - np.nan)`: This line subtracts `np.nan` from `np.nan`. As mentioned before, any operation involving `np.nan` results in `np.nan`, so this will print `nan`.\n",
    "\n",
    "5. `print(np.nan in set([np.nan]))`: This line checks if `np.nan` is in a set that contains `np.nan`. This will print `True`. Even though `np.nan` is not equal to itself, it is still the same object, so it can be found in a set.\n",
    "\n",
    "6. `print(0.3 == 3 * 0.1)`: This line checks if 0.3 is equal to three times 0.1. This might seem straightforward, but it will actually print `False` due to the way floating-point numbers are represented in computers. The value 0.1 cannot be represented exactly as a base 2 fraction, so in binary floating-point, the result of multiplying 0.1 by 3 is not exactly equal to 0.3."
   ]
  },
  {
   "cell_type": "markdown",
   "metadata": {},
   "source": [
    "#### 18. Create a 5x5 matrix with values 1,2,3,4 just below the diagonal (★☆☆)"
   ]
  },
  {
   "cell_type": "code",
   "execution_count": 29,
   "metadata": {},
   "outputs": [
    {
     "name": "stdout",
     "output_type": "stream",
     "text": [
      "[[0 0 0 0 0]\n",
      " [1 0 0 0 0]\n",
      " [0 2 0 0 0]\n",
      " [0 0 3 0 0]\n",
      " [0 0 0 4 0]]\n",
      "[[0 0 0 0 0]\n",
      " [1 0 0 0 0]\n",
      " [0 2 0 0 0]\n",
      " [0 0 3 0 0]\n",
      " [0 0 0 4 0]]\n"
     ]
    }
   ],
   "source": [
    "n=5\n",
    "# Naive approach-->\n",
    "arr=np.zeros((n,n),dtype=int)\n",
    "for i in range(1, n):\n",
    "    arr[i,i-1]=i\n",
    "print(arr)\n",
    "# Better -->\n",
    "arr=np.diag(np.arange(1,n),k=-1) # k=1 would have the values over the diagonal\n",
    "# This function sets the values along diagonal(or maybe below or above) \n",
    "# with the values of the vector given as first arg\n",
    "print(arr)"
   ]
  },
  {
   "cell_type": "markdown",
   "metadata": {},
   "source": [
    "#### 19. Create a 8x8 matrix and fill it with a checkerboard pattern (★☆☆)"
   ]
  },
  {
   "cell_type": "code",
   "execution_count": 32,
   "metadata": {},
   "outputs": [
    {
     "name": "stdout",
     "output_type": "stream",
     "text": [
      "[[1. 0. 1. 0. 1. 0. 1. 0.]\n",
      " [0. 1. 0. 1. 0. 1. 0. 1.]\n",
      " [1. 0. 1. 0. 1. 0. 1. 0.]\n",
      " [0. 1. 0. 1. 0. 1. 0. 1.]\n",
      " [1. 0. 1. 0. 1. 0. 1. 0.]\n",
      " [0. 1. 0. 1. 0. 1. 0. 1.]\n",
      " [1. 0. 1. 0. 1. 0. 1. 0.]\n",
      " [0. 1. 0. 1. 0. 1. 0. 1.]]\n"
     ]
    }
   ],
   "source": [
    "n=8\n",
    "arr=np.zeros((n,n))\n",
    "for i in range(0,n,2):\n",
    "    tmp=np.diag(np.ones(n-i),k=i)\n",
    "    arr+=tmp\n",
    "    if i!=0:\n",
    "        tmp=np.diag(np.ones(n-i),k=i*-1)\n",
    "        arr+=tmp\n",
    "print(arr)"
   ]
  },
  {
   "cell_type": "code",
   "execution_count": 33,
   "metadata": {},
   "outputs": [
    {
     "name": "stdout",
     "output_type": "stream",
     "text": [
      "[[1 0 1 0 1 0 1 0]\n",
      " [0 1 0 1 0 1 0 1]\n",
      " [1 0 1 0 1 0 1 0]\n",
      " [0 1 0 1 0 1 0 1]\n",
      " [1 0 1 0 1 0 1 0]\n",
      " [0 1 0 1 0 1 0 1]\n",
      " [1 0 1 0 1 0 1 0]\n",
      " [0 1 0 1 0 1 0 1]]\n"
     ]
    }
   ],
   "source": [
    "n = 8\n",
    "arr = np.tile([[1, 0], [0, 1]], (n // 2, n // 2))\n",
    "print(arr)"
   ]
  },
  {
   "cell_type": "code",
   "execution_count": 42,
   "metadata": {},
   "outputs": [
    {
     "name": "stdout",
     "output_type": "stream",
     "text": [
      "[[ 1  3]\n",
      " [ 5  7]\n",
      " [ 9 11]]\n",
      "After tiling:\n",
      " [[ 1  3  1  3  1  3]\n",
      " [ 5  7  5  7  5  7]\n",
      " [ 9 11  9 11  9 11]\n",
      " [ 1  3  1  3  1  3]\n",
      " [ 5  7  5  7  5  7]\n",
      " [ 9 11  9 11  9 11]\n",
      " [ 1  3  1  3  1  3]\n",
      " [ 5  7  5  7  5  7]\n",
      " [ 9 11  9 11  9 11]\n",
      " [ 1  3  1  3  1  3]\n",
      " [ 5  7  5  7  5  7]\n",
      " [ 9 11  9 11  9 11]]\n",
      "Again after tiling\n",
      " [[ 1  3  1  3]\n",
      " [ 5  7  5  7]\n",
      " [ 9 11  9 11]]\n",
      "Again after tiling\n",
      " [[ 1  3  1  3]\n",
      " [ 5  7  5  7]\n",
      " [ 9 11  9 11]]\n",
      "Again after tiling\n",
      " [[[ 1  3  1  3  1  3  1  3]\n",
      "  [ 5  7  5  7  5  7  5  7]\n",
      "  [ 9 11  9 11  9 11  9 11]\n",
      "  [ 1  3  1  3  1  3  1  3]\n",
      "  [ 5  7  5  7  5  7  5  7]\n",
      "  [ 9 11  9 11  9 11  9 11]]\n",
      "\n",
      " [[ 1  3  1  3  1  3  1  3]\n",
      "  [ 5  7  5  7  5  7  5  7]\n",
      "  [ 9 11  9 11  9 11  9 11]\n",
      "  [ 1  3  1  3  1  3  1  3]\n",
      "  [ 5  7  5  7  5  7  5  7]\n",
      "  [ 9 11  9 11  9 11  9 11]]\n",
      "\n",
      " [[ 1  3  1  3  1  3  1  3]\n",
      "  [ 5  7  5  7  5  7  5  7]\n",
      "  [ 9 11  9 11  9 11  9 11]\n",
      "  [ 1  3  1  3  1  3  1  3]\n",
      "  [ 5  7  5  7  5  7  5  7]\n",
      "  [ 9 11  9 11  9 11  9 11]]]\n"
     ]
    }
   ],
   "source": [
    "arr=np.arange(1,12,2).reshape(3,2)\n",
    "print(arr)\n",
    "print(\"After tiling:\\n\",np.tile(arr,(4,3))) # Shape 4*3x3*2 i.e 12x6\n",
    "print(\"Again after tiling\\n\",np.tile(arr,(2)))\n",
    "print(\"Again after tiling\\n\",np.tile(arr,(1,2)))\n",
    "# The last 2 are same. As arr is 2d & reps is 1d in the 1st one,it's treated as 1,2\n",
    "print(\"Again after tiling\\n\",np.tile(arr,(3,2,4)))\n",
    "# Now the o/p is a 3D array,arr was considered as 1x3x2\n",
    "# So shape of tiled array is 3x6x8"
   ]
  },
  {
   "cell_type": "code",
   "execution_count": 44,
   "metadata": {},
   "outputs": [
    {
     "name": "stdout",
     "output_type": "stream",
     "text": [
      "[[1 2 3 4 1 2 3 4 1 2 3 4]\n",
      " [1 2 3 4 1 2 3 4 1 2 3 4]]\n",
      "[[[1 2 3 4 1 2 3 4]\n",
      "  [1 2 3 4 1 2 3 4]]\n",
      "\n",
      " [[1 2 3 4 1 2 3 4]\n",
      "  [1 2 3 4 1 2 3 4]]]\n"
     ]
    }
   ],
   "source": [
    "arr=np.arange(1,5)\n",
    "print(np.tile(arr,(2,3))) # arr as 1x4\n",
    "print(np.tile(arr,(2,2,2))) # arr as 1x1x4"
   ]
  },
  {
   "cell_type": "code",
   "execution_count": 47,
   "metadata": {},
   "outputs": [
    {
     "name": "stdout",
     "output_type": "stream",
     "text": [
      "100\n"
     ]
    }
   ],
   "source": [
    "arr=np.arange(1,6*7*8+1).reshape(6,7,8)\n",
    "print(arr[1,5,3])"
   ]
  }
 ],
 "metadata": {
  "kernelspec": {
   "display_name": "Python 3",
   "language": "python",
   "name": "python3"
  },
  "language_info": {
   "codemirror_mode": {
    "name": "ipython",
    "version": 3
   },
   "file_extension": ".py",
   "mimetype": "text/x-python",
   "name": "python",
   "nbconvert_exporter": "python",
   "pygments_lexer": "ipython3",
   "version": "3.11.9"
  }
 },
 "nbformat": 4,
 "nbformat_minor": 2
}
