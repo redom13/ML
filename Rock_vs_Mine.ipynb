{
  "nbformat": 4,
  "nbformat_minor": 0,
  "metadata": {
    "colab": {
      "provenance": [],
      "authorship_tag": "ABX9TyPBbd8KnmMk7FCB1MTBHRM8",
      "include_colab_link": true
    },
    "kernelspec": {
      "name": "python3",
      "display_name": "Python 3"
    },
    "language_info": {
      "name": "python"
    }
  },
  "cells": [
    {
      "cell_type": "markdown",
      "metadata": {
        "id": "view-in-github",
        "colab_type": "text"
      },
      "source": [
        "<a href=\"https://colab.research.google.com/github/redom13/ML/blob/main/Rock_vs_Mine.ipynb\" target=\"_parent\"><img src=\"https://colab.research.google.com/assets/colab-badge.svg\" alt=\"Open In Colab\"/></a>"
      ]
    },
    {
      "cell_type": "markdown",
      "source": [
        "# Importing librarys"
      ],
      "metadata": {
        "id": "znW6igZr34w8"
      }
    },
    {
      "cell_type": "code",
      "execution_count": 6,
      "metadata": {
        "id": "K9Dsffyu2QHJ"
      },
      "outputs": [],
      "source": [
        "import numpy as np\n",
        "import pandas as pd\n",
        "from sklearn.model_selection import train_test_split\n",
        "from sklearn.linear_model import LogisticRegression\n",
        "from sklearn.metrics import accuracy_score"
      ]
    },
    {
      "cell_type": "markdown",
      "source": [
        "# Data Collection and Data Preprocessing"
      ],
      "metadata": {
        "id": "fpNuZtV54E8r"
      }
    },
    {
      "cell_type": "code",
      "source": [
        "sonar_data=pd.read_csv('/content/Copy of sonar data.csv',header=None)\n",
        "sonar_data.head()"
      ],
      "metadata": {
        "id": "Y5Q0Q7pG32bC",
        "colab": {
          "base_uri": "https://localhost:8080/",
          "height": 255
        },
        "outputId": "37b1f7b8-5725-4184-860c-ca64d590e8b8"
      },
      "execution_count": 8,
      "outputs": [
        {
          "output_type": "execute_result",
          "data": {
            "text/plain": [
              "       0       1       2       3       4       5       6       7       8   \\\n",
              "0  0.0200  0.0371  0.0428  0.0207  0.0954  0.0986  0.1539  0.1601  0.3109   \n",
              "1  0.0453  0.0523  0.0843  0.0689  0.1183  0.2583  0.2156  0.3481  0.3337   \n",
              "2  0.0262  0.0582  0.1099  0.1083  0.0974  0.2280  0.2431  0.3771  0.5598   \n",
              "3  0.0100  0.0171  0.0623  0.0205  0.0205  0.0368  0.1098  0.1276  0.0598   \n",
              "4  0.0762  0.0666  0.0481  0.0394  0.0590  0.0649  0.1209  0.2467  0.3564   \n",
              "\n",
              "       9   ...      51      52      53      54      55      56      57  \\\n",
              "0  0.2111  ...  0.0027  0.0065  0.0159  0.0072  0.0167  0.0180  0.0084   \n",
              "1  0.2872  ...  0.0084  0.0089  0.0048  0.0094  0.0191  0.0140  0.0049   \n",
              "2  0.6194  ...  0.0232  0.0166  0.0095  0.0180  0.0244  0.0316  0.0164   \n",
              "3  0.1264  ...  0.0121  0.0036  0.0150  0.0085  0.0073  0.0050  0.0044   \n",
              "4  0.4459  ...  0.0031  0.0054  0.0105  0.0110  0.0015  0.0072  0.0048   \n",
              "\n",
              "       58      59  60  \n",
              "0  0.0090  0.0032   R  \n",
              "1  0.0052  0.0044   R  \n",
              "2  0.0095  0.0078   R  \n",
              "3  0.0040  0.0117   R  \n",
              "4  0.0107  0.0094   R  \n",
              "\n",
              "[5 rows x 61 columns]"
            ],
            "text/html": [
              "\n",
              "  <div id=\"df-52c6097e-f1e1-4264-bc23-02565ac1c0c5\" class=\"colab-df-container\">\n",
              "    <div>\n",
              "<style scoped>\n",
              "    .dataframe tbody tr th:only-of-type {\n",
              "        vertical-align: middle;\n",
              "    }\n",
              "\n",
              "    .dataframe tbody tr th {\n",
              "        vertical-align: top;\n",
              "    }\n",
              "\n",
              "    .dataframe thead th {\n",
              "        text-align: right;\n",
              "    }\n",
              "</style>\n",
              "<table border=\"1\" class=\"dataframe\">\n",
              "  <thead>\n",
              "    <tr style=\"text-align: right;\">\n",
              "      <th></th>\n",
              "      <th>0</th>\n",
              "      <th>1</th>\n",
              "      <th>2</th>\n",
              "      <th>3</th>\n",
              "      <th>4</th>\n",
              "      <th>5</th>\n",
              "      <th>6</th>\n",
              "      <th>7</th>\n",
              "      <th>8</th>\n",
              "      <th>9</th>\n",
              "      <th>...</th>\n",
              "      <th>51</th>\n",
              "      <th>52</th>\n",
              "      <th>53</th>\n",
              "      <th>54</th>\n",
              "      <th>55</th>\n",
              "      <th>56</th>\n",
              "      <th>57</th>\n",
              "      <th>58</th>\n",
              "      <th>59</th>\n",
              "      <th>60</th>\n",
              "    </tr>\n",
              "  </thead>\n",
              "  <tbody>\n",
              "    <tr>\n",
              "      <th>0</th>\n",
              "      <td>0.0200</td>\n",
              "      <td>0.0371</td>\n",
              "      <td>0.0428</td>\n",
              "      <td>0.0207</td>\n",
              "      <td>0.0954</td>\n",
              "      <td>0.0986</td>\n",
              "      <td>0.1539</td>\n",
              "      <td>0.1601</td>\n",
              "      <td>0.3109</td>\n",
              "      <td>0.2111</td>\n",
              "      <td>...</td>\n",
              "      <td>0.0027</td>\n",
              "      <td>0.0065</td>\n",
              "      <td>0.0159</td>\n",
              "      <td>0.0072</td>\n",
              "      <td>0.0167</td>\n",
              "      <td>0.0180</td>\n",
              "      <td>0.0084</td>\n",
              "      <td>0.0090</td>\n",
              "      <td>0.0032</td>\n",
              "      <td>R</td>\n",
              "    </tr>\n",
              "    <tr>\n",
              "      <th>1</th>\n",
              "      <td>0.0453</td>\n",
              "      <td>0.0523</td>\n",
              "      <td>0.0843</td>\n",
              "      <td>0.0689</td>\n",
              "      <td>0.1183</td>\n",
              "      <td>0.2583</td>\n",
              "      <td>0.2156</td>\n",
              "      <td>0.3481</td>\n",
              "      <td>0.3337</td>\n",
              "      <td>0.2872</td>\n",
              "      <td>...</td>\n",
              "      <td>0.0084</td>\n",
              "      <td>0.0089</td>\n",
              "      <td>0.0048</td>\n",
              "      <td>0.0094</td>\n",
              "      <td>0.0191</td>\n",
              "      <td>0.0140</td>\n",
              "      <td>0.0049</td>\n",
              "      <td>0.0052</td>\n",
              "      <td>0.0044</td>\n",
              "      <td>R</td>\n",
              "    </tr>\n",
              "    <tr>\n",
              "      <th>2</th>\n",
              "      <td>0.0262</td>\n",
              "      <td>0.0582</td>\n",
              "      <td>0.1099</td>\n",
              "      <td>0.1083</td>\n",
              "      <td>0.0974</td>\n",
              "      <td>0.2280</td>\n",
              "      <td>0.2431</td>\n",
              "      <td>0.3771</td>\n",
              "      <td>0.5598</td>\n",
              "      <td>0.6194</td>\n",
              "      <td>...</td>\n",
              "      <td>0.0232</td>\n",
              "      <td>0.0166</td>\n",
              "      <td>0.0095</td>\n",
              "      <td>0.0180</td>\n",
              "      <td>0.0244</td>\n",
              "      <td>0.0316</td>\n",
              "      <td>0.0164</td>\n",
              "      <td>0.0095</td>\n",
              "      <td>0.0078</td>\n",
              "      <td>R</td>\n",
              "    </tr>\n",
              "    <tr>\n",
              "      <th>3</th>\n",
              "      <td>0.0100</td>\n",
              "      <td>0.0171</td>\n",
              "      <td>0.0623</td>\n",
              "      <td>0.0205</td>\n",
              "      <td>0.0205</td>\n",
              "      <td>0.0368</td>\n",
              "      <td>0.1098</td>\n",
              "      <td>0.1276</td>\n",
              "      <td>0.0598</td>\n",
              "      <td>0.1264</td>\n",
              "      <td>...</td>\n",
              "      <td>0.0121</td>\n",
              "      <td>0.0036</td>\n",
              "      <td>0.0150</td>\n",
              "      <td>0.0085</td>\n",
              "      <td>0.0073</td>\n",
              "      <td>0.0050</td>\n",
              "      <td>0.0044</td>\n",
              "      <td>0.0040</td>\n",
              "      <td>0.0117</td>\n",
              "      <td>R</td>\n",
              "    </tr>\n",
              "    <tr>\n",
              "      <th>4</th>\n",
              "      <td>0.0762</td>\n",
              "      <td>0.0666</td>\n",
              "      <td>0.0481</td>\n",
              "      <td>0.0394</td>\n",
              "      <td>0.0590</td>\n",
              "      <td>0.0649</td>\n",
              "      <td>0.1209</td>\n",
              "      <td>0.2467</td>\n",
              "      <td>0.3564</td>\n",
              "      <td>0.4459</td>\n",
              "      <td>...</td>\n",
              "      <td>0.0031</td>\n",
              "      <td>0.0054</td>\n",
              "      <td>0.0105</td>\n",
              "      <td>0.0110</td>\n",
              "      <td>0.0015</td>\n",
              "      <td>0.0072</td>\n",
              "      <td>0.0048</td>\n",
              "      <td>0.0107</td>\n",
              "      <td>0.0094</td>\n",
              "      <td>R</td>\n",
              "    </tr>\n",
              "  </tbody>\n",
              "</table>\n",
              "<p>5 rows × 61 columns</p>\n",
              "</div>\n",
              "    <div class=\"colab-df-buttons\">\n",
              "\n",
              "  <div class=\"colab-df-container\">\n",
              "    <button class=\"colab-df-convert\" onclick=\"convertToInteractive('df-52c6097e-f1e1-4264-bc23-02565ac1c0c5')\"\n",
              "            title=\"Convert this dataframe to an interactive table.\"\n",
              "            style=\"display:none;\">\n",
              "\n",
              "  <svg xmlns=\"http://www.w3.org/2000/svg\" height=\"24px\" viewBox=\"0 -960 960 960\">\n",
              "    <path d=\"M120-120v-720h720v720H120Zm60-500h600v-160H180v160Zm220 220h160v-160H400v160Zm0 220h160v-160H400v160ZM180-400h160v-160H180v160Zm440 0h160v-160H620v160ZM180-180h160v-160H180v160Zm440 0h160v-160H620v160Z\"/>\n",
              "  </svg>\n",
              "    </button>\n",
              "\n",
              "  <style>\n",
              "    .colab-df-container {\n",
              "      display:flex;\n",
              "      gap: 12px;\n",
              "    }\n",
              "\n",
              "    .colab-df-convert {\n",
              "      background-color: #E8F0FE;\n",
              "      border: none;\n",
              "      border-radius: 50%;\n",
              "      cursor: pointer;\n",
              "      display: none;\n",
              "      fill: #1967D2;\n",
              "      height: 32px;\n",
              "      padding: 0 0 0 0;\n",
              "      width: 32px;\n",
              "    }\n",
              "\n",
              "    .colab-df-convert:hover {\n",
              "      background-color: #E2EBFA;\n",
              "      box-shadow: 0px 1px 2px rgba(60, 64, 67, 0.3), 0px 1px 3px 1px rgba(60, 64, 67, 0.15);\n",
              "      fill: #174EA6;\n",
              "    }\n",
              "\n",
              "    .colab-df-buttons div {\n",
              "      margin-bottom: 4px;\n",
              "    }\n",
              "\n",
              "    [theme=dark] .colab-df-convert {\n",
              "      background-color: #3B4455;\n",
              "      fill: #D2E3FC;\n",
              "    }\n",
              "\n",
              "    [theme=dark] .colab-df-convert:hover {\n",
              "      background-color: #434B5C;\n",
              "      box-shadow: 0px 1px 3px 1px rgba(0, 0, 0, 0.15);\n",
              "      filter: drop-shadow(0px 1px 2px rgba(0, 0, 0, 0.3));\n",
              "      fill: #FFFFFF;\n",
              "    }\n",
              "  </style>\n",
              "\n",
              "    <script>\n",
              "      const buttonEl =\n",
              "        document.querySelector('#df-52c6097e-f1e1-4264-bc23-02565ac1c0c5 button.colab-df-convert');\n",
              "      buttonEl.style.display =\n",
              "        google.colab.kernel.accessAllowed ? 'block' : 'none';\n",
              "\n",
              "      async function convertToInteractive(key) {\n",
              "        const element = document.querySelector('#df-52c6097e-f1e1-4264-bc23-02565ac1c0c5');\n",
              "        const dataTable =\n",
              "          await google.colab.kernel.invokeFunction('convertToInteractive',\n",
              "                                                    [key], {});\n",
              "        if (!dataTable) return;\n",
              "\n",
              "        const docLinkHtml = 'Like what you see? Visit the ' +\n",
              "          '<a target=\"_blank\" href=https://colab.research.google.com/notebooks/data_table.ipynb>data table notebook</a>'\n",
              "          + ' to learn more about interactive tables.';\n",
              "        element.innerHTML = '';\n",
              "        dataTable['output_type'] = 'display_data';\n",
              "        await google.colab.output.renderOutput(dataTable, element);\n",
              "        const docLink = document.createElement('div');\n",
              "        docLink.innerHTML = docLinkHtml;\n",
              "        element.appendChild(docLink);\n",
              "      }\n",
              "    </script>\n",
              "  </div>\n",
              "\n",
              "\n",
              "<div id=\"df-b4346e34-77a2-45bd-91ad-1e77b2ed63cd\">\n",
              "  <button class=\"colab-df-quickchart\" onclick=\"quickchart('df-b4346e34-77a2-45bd-91ad-1e77b2ed63cd')\"\n",
              "            title=\"Suggest charts\"\n",
              "            style=\"display:none;\">\n",
              "\n",
              "<svg xmlns=\"http://www.w3.org/2000/svg\" height=\"24px\"viewBox=\"0 0 24 24\"\n",
              "     width=\"24px\">\n",
              "    <g>\n",
              "        <path d=\"M19 3H5c-1.1 0-2 .9-2 2v14c0 1.1.9 2 2 2h14c1.1 0 2-.9 2-2V5c0-1.1-.9-2-2-2zM9 17H7v-7h2v7zm4 0h-2V7h2v10zm4 0h-2v-4h2v4z\"/>\n",
              "    </g>\n",
              "</svg>\n",
              "  </button>\n",
              "\n",
              "<style>\n",
              "  .colab-df-quickchart {\n",
              "      --bg-color: #E8F0FE;\n",
              "      --fill-color: #1967D2;\n",
              "      --hover-bg-color: #E2EBFA;\n",
              "      --hover-fill-color: #174EA6;\n",
              "      --disabled-fill-color: #AAA;\n",
              "      --disabled-bg-color: #DDD;\n",
              "  }\n",
              "\n",
              "  [theme=dark] .colab-df-quickchart {\n",
              "      --bg-color: #3B4455;\n",
              "      --fill-color: #D2E3FC;\n",
              "      --hover-bg-color: #434B5C;\n",
              "      --hover-fill-color: #FFFFFF;\n",
              "      --disabled-bg-color: #3B4455;\n",
              "      --disabled-fill-color: #666;\n",
              "  }\n",
              "\n",
              "  .colab-df-quickchart {\n",
              "    background-color: var(--bg-color);\n",
              "    border: none;\n",
              "    border-radius: 50%;\n",
              "    cursor: pointer;\n",
              "    display: none;\n",
              "    fill: var(--fill-color);\n",
              "    height: 32px;\n",
              "    padding: 0;\n",
              "    width: 32px;\n",
              "  }\n",
              "\n",
              "  .colab-df-quickchart:hover {\n",
              "    background-color: var(--hover-bg-color);\n",
              "    box-shadow: 0 1px 2px rgba(60, 64, 67, 0.3), 0 1px 3px 1px rgba(60, 64, 67, 0.15);\n",
              "    fill: var(--button-hover-fill-color);\n",
              "  }\n",
              "\n",
              "  .colab-df-quickchart-complete:disabled,\n",
              "  .colab-df-quickchart-complete:disabled:hover {\n",
              "    background-color: var(--disabled-bg-color);\n",
              "    fill: var(--disabled-fill-color);\n",
              "    box-shadow: none;\n",
              "  }\n",
              "\n",
              "  .colab-df-spinner {\n",
              "    border: 2px solid var(--fill-color);\n",
              "    border-color: transparent;\n",
              "    border-bottom-color: var(--fill-color);\n",
              "    animation:\n",
              "      spin 1s steps(1) infinite;\n",
              "  }\n",
              "\n",
              "  @keyframes spin {\n",
              "    0% {\n",
              "      border-color: transparent;\n",
              "      border-bottom-color: var(--fill-color);\n",
              "      border-left-color: var(--fill-color);\n",
              "    }\n",
              "    20% {\n",
              "      border-color: transparent;\n",
              "      border-left-color: var(--fill-color);\n",
              "      border-top-color: var(--fill-color);\n",
              "    }\n",
              "    30% {\n",
              "      border-color: transparent;\n",
              "      border-left-color: var(--fill-color);\n",
              "      border-top-color: var(--fill-color);\n",
              "      border-right-color: var(--fill-color);\n",
              "    }\n",
              "    40% {\n",
              "      border-color: transparent;\n",
              "      border-right-color: var(--fill-color);\n",
              "      border-top-color: var(--fill-color);\n",
              "    }\n",
              "    60% {\n",
              "      border-color: transparent;\n",
              "      border-right-color: var(--fill-color);\n",
              "    }\n",
              "    80% {\n",
              "      border-color: transparent;\n",
              "      border-right-color: var(--fill-color);\n",
              "      border-bottom-color: var(--fill-color);\n",
              "    }\n",
              "    90% {\n",
              "      border-color: transparent;\n",
              "      border-bottom-color: var(--fill-color);\n",
              "    }\n",
              "  }\n",
              "</style>\n",
              "\n",
              "  <script>\n",
              "    async function quickchart(key) {\n",
              "      const quickchartButtonEl =\n",
              "        document.querySelector('#' + key + ' button');\n",
              "      quickchartButtonEl.disabled = true;  // To prevent multiple clicks.\n",
              "      quickchartButtonEl.classList.add('colab-df-spinner');\n",
              "      try {\n",
              "        const charts = await google.colab.kernel.invokeFunction(\n",
              "            'suggestCharts', [key], {});\n",
              "      } catch (error) {\n",
              "        console.error('Error during call to suggestCharts:', error);\n",
              "      }\n",
              "      quickchartButtonEl.classList.remove('colab-df-spinner');\n",
              "      quickchartButtonEl.classList.add('colab-df-quickchart-complete');\n",
              "    }\n",
              "    (() => {\n",
              "      let quickchartButtonEl =\n",
              "        document.querySelector('#df-b4346e34-77a2-45bd-91ad-1e77b2ed63cd button');\n",
              "      quickchartButtonEl.style.display =\n",
              "        google.colab.kernel.accessAllowed ? 'block' : 'none';\n",
              "    })();\n",
              "  </script>\n",
              "</div>\n",
              "\n",
              "    </div>\n",
              "  </div>\n"
            ],
            "application/vnd.google.colaboratory.intrinsic+json": {
              "type": "dataframe",
              "variable_name": "sonar_data"
            }
          },
          "metadata": {},
          "execution_count": 8
        }
      ]
    },
    {
      "cell_type": "code",
      "source": [
        "sonar_data.shape"
      ],
      "metadata": {
        "id": "pqZ4l-bZ4pDt"
      },
      "execution_count": null,
      "outputs": []
    },
    {
      "cell_type": "code",
      "source": [
        "sonar_data.describe()"
      ],
      "metadata": {
        "id": "DYTCOdOc41Ut"
      },
      "execution_count": null,
      "outputs": []
    },
    {
      "cell_type": "code",
      "source": [
        "sonar_data[60].value_counts()"
      ],
      "metadata": {
        "id": "WRsyTaVq5Gl3"
      },
      "execution_count": null,
      "outputs": []
    },
    {
      "cell_type": "code",
      "source": [
        "sonar_data.groupby(60).mean()"
      ],
      "metadata": {
        "id": "VXmrG-S55rOV"
      },
      "execution_count": null,
      "outputs": []
    },
    {
      "cell_type": "markdown",
      "source": [
        "Separating Data and Labels"
      ],
      "metadata": {
        "id": "xhR1LaoI66Xx"
      }
    },
    {
      "cell_type": "code",
      "source": [
        "X=sonar_data.drop(columns=60,axis=1)\n",
        "y=sonar_data[60]"
      ],
      "metadata": {
        "id": "DLUuV1AX6iBX"
      },
      "execution_count": 9,
      "outputs": []
    },
    {
      "cell_type": "code",
      "source": [
        "print(X)\n",
        "print(y)"
      ],
      "metadata": {
        "id": "pBUHQmca7Na2"
      },
      "execution_count": null,
      "outputs": []
    },
    {
      "cell_type": "markdown",
      "source": [
        "*Training* Data and *Test* Data"
      ],
      "metadata": {
        "id": "7DrO2iI07vRu"
      }
    },
    {
      "cell_type": "code",
      "source": [
        "X_train,X_test,y_train,y_test=train_test_split(X,y,test_size=0.1,stratify=y,random_state=1)"
      ],
      "metadata": {
        "id": "RXPMRKTo7Rvr"
      },
      "execution_count": 10,
      "outputs": []
    },
    {
      "cell_type": "markdown",
      "source": [
        "Model Training"
      ],
      "metadata": {
        "id": "5s8WQnxJ8N7K"
      }
    },
    {
      "cell_type": "code",
      "source": [
        "model=LogisticRegression()\n",
        "model.fit(X_train,y_train)"
      ],
      "metadata": {
        "id": "M03VPBSu8CoE"
      },
      "execution_count": null,
      "outputs": []
    },
    {
      "cell_type": "markdown",
      "source": [
        "Model Accuracy"
      ],
      "metadata": {
        "id": "BhSWd1-dAMNM"
      }
    },
    {
      "cell_type": "code",
      "source": [
        "training_prediction=model.predict(X_train)\n",
        "training_accuracy=accuracy_score(training_prediction,y_train)\n",
        "print('Accuracy on training data:',training_accuracy)"
      ],
      "metadata": {
        "id": "mVn9vCvV84Kk"
      },
      "execution_count": null,
      "outputs": []
    },
    {
      "cell_type": "code",
      "source": [
        "test_prediction=model.predict(X_test)\n",
        "test_accuracy=accuracy_score(test_prediction,y_test)\n",
        "print('Accuracy on test data:',test_accuracy)"
      ],
      "metadata": {
        "id": "ViIu8xJg9ufB"
      },
      "execution_count": null,
      "outputs": []
    },
    {
      "cell_type": "code",
      "source": [
        "training_prediction"
      ],
      "metadata": {
        "id": "1AufgwEM9qQH"
      },
      "execution_count": null,
      "outputs": []
    },
    {
      "cell_type": "markdown",
      "source": [
        "# Prediction using **Neural Network**"
      ],
      "metadata": {
        "id": "yxlYBPhQPEb9"
      }
    },
    {
      "cell_type": "markdown",
      "source": [
        "Importing diff libraries"
      ],
      "metadata": {
        "id": "ozCbmHUYRE3J"
      }
    },
    {
      "cell_type": "code",
      "source": [
        "import tensorflow as tf\n",
        "import keras\n",
        "from keras.models import Sequential\n",
        "from keras.layers import Dense\n",
        "from keras.losses import BinaryCrossentropy\n",
        "from keras.optimizers import Adam\n",
        "from sklearn.preprocessing import LabelEncoder"
      ],
      "metadata": {
        "id": "j4vpo0XJ-wP_"
      },
      "execution_count": 15,
      "outputs": []
    },
    {
      "cell_type": "markdown",
      "source": [
        "Defining model"
      ],
      "metadata": {
        "id": "4Es4B3ZERO2I"
      }
    },
    {
      "cell_type": "code",
      "source": [
        "nn_model=Sequential([\n",
        "    Dense(60,activation='relu'),\n",
        "    Dense(30,activation='relu'),\n",
        "    Dense(1,activation='linear') # will use z directly\n",
        "])"
      ],
      "metadata": {
        "id": "EqaBwzRXQp0u"
      },
      "execution_count": 28,
      "outputs": []
    },
    {
      "cell_type": "markdown",
      "source": [
        "Compiling the model"
      ],
      "metadata": {
        "id": "V1GkESoyR4KQ"
      }
    },
    {
      "cell_type": "code",
      "source": [
        "nn_model.compile(\n",
        "    loss=BinaryCrossentropy(from_logits=True),\n",
        "    optimizer=Adam(learning_rate=0.001),\n",
        "    metrics=['accuracy']\n",
        ")"
      ],
      "metadata": {
        "id": "J0DSOa7BR3Li"
      },
      "execution_count": 29,
      "outputs": []
    },
    {
      "cell_type": "markdown",
      "source": [
        "Bit of preprocessing"
      ],
      "metadata": {
        "id": "EFHyhmcjUaJH"
      }
    },
    {
      "cell_type": "code",
      "source": [
        "label_encoder=LabelEncoder()\n",
        "y_train=label_encoder.fit_transform(y_train)\n",
        "y_test=label_encoder.fit_transform(y_test)"
      ],
      "metadata": {
        "id": "GowGDHgEUdQx"
      },
      "execution_count": 16,
      "outputs": []
    },
    {
      "cell_type": "code",
      "source": [
        "y_test"
      ],
      "metadata": {
        "colab": {
          "base_uri": "https://localhost:8080/"
        },
        "id": "6V1LMn1XVnRr",
        "outputId": "b8206dfe-51c1-40ba-862d-8f7f36a4720c"
      },
      "execution_count": 21,
      "outputs": [
        {
          "output_type": "execute_result",
          "data": {
            "text/plain": [
              "array([0, 1, 1, 1, 1, 0, 0, 0, 1, 0, 1, 0, 1, 0, 1, 0, 1, 0, 1, 0, 0])"
            ]
          },
          "metadata": {},
          "execution_count": 21
        }
      ]
    },
    {
      "cell_type": "markdown",
      "source": [
        "Fitting the data"
      ],
      "metadata": {
        "id": "KCXA3zIvSg_z"
      }
    },
    {
      "cell_type": "code",
      "source": [
        "nn_model.fit(X_train,y_train,epochs=100)"
      ],
      "metadata": {
        "colab": {
          "base_uri": "https://localhost:8080/"
        },
        "id": "Zd3aOYVQSgCm",
        "outputId": "e1269356-0cbe-42cd-c184-e75840fe9958"
      },
      "execution_count": 30,
      "outputs": [
        {
          "output_type": "stream",
          "name": "stdout",
          "text": [
            "Epoch 1/100\n",
            "6/6 [==============================] - 1s 3ms/step - loss: 0.6870 - accuracy: 0.5348\n",
            "Epoch 2/100\n",
            "6/6 [==============================] - 0s 2ms/step - loss: 0.6633 - accuracy: 0.5348\n",
            "Epoch 3/100\n",
            "6/6 [==============================] - 0s 3ms/step - loss: 0.6526 - accuracy: 0.5348\n",
            "Epoch 4/100\n",
            "6/6 [==============================] - 0s 3ms/step - loss: 0.6397 - accuracy: 0.5401\n",
            "Epoch 5/100\n",
            "6/6 [==============================] - 0s 2ms/step - loss: 0.6291 - accuracy: 0.5722\n",
            "Epoch 6/100\n",
            "6/6 [==============================] - 0s 2ms/step - loss: 0.6163 - accuracy: 0.5829\n",
            "Epoch 7/100\n",
            "6/6 [==============================] - 0s 4ms/step - loss: 0.6053 - accuracy: 0.5829\n",
            "Epoch 8/100\n",
            "6/6 [==============================] - 0s 2ms/step - loss: 0.5935 - accuracy: 0.5829\n",
            "Epoch 9/100\n",
            "6/6 [==============================] - 0s 3ms/step - loss: 0.5792 - accuracy: 0.6043\n",
            "Epoch 10/100\n",
            "6/6 [==============================] - 0s 2ms/step - loss: 0.5657 - accuracy: 0.6310\n",
            "Epoch 11/100\n",
            "6/6 [==============================] - 0s 2ms/step - loss: 0.5524 - accuracy: 0.6471\n",
            "Epoch 12/100\n",
            "6/6 [==============================] - 0s 2ms/step - loss: 0.5379 - accuracy: 0.6578\n",
            "Epoch 13/100\n",
            "6/6 [==============================] - 0s 2ms/step - loss: 0.5264 - accuracy: 0.6471\n",
            "Epoch 14/100\n",
            "6/6 [==============================] - 0s 3ms/step - loss: 0.5113 - accuracy: 0.6898\n",
            "Epoch 15/100\n",
            "6/6 [==============================] - 0s 2ms/step - loss: 0.4964 - accuracy: 0.7005\n",
            "Epoch 16/100\n",
            "6/6 [==============================] - 0s 2ms/step - loss: 0.4827 - accuracy: 0.7059\n",
            "Epoch 17/100\n",
            "6/6 [==============================] - 0s 3ms/step - loss: 0.4676 - accuracy: 0.7326\n",
            "Epoch 18/100\n",
            "6/6 [==============================] - 0s 3ms/step - loss: 0.4598 - accuracy: 0.7754\n",
            "Epoch 19/100\n",
            "6/6 [==============================] - 0s 2ms/step - loss: 0.4517 - accuracy: 0.7059\n",
            "Epoch 20/100\n",
            "6/6 [==============================] - 0s 2ms/step - loss: 0.4426 - accuracy: 0.7647\n",
            "Epoch 21/100\n",
            "6/6 [==============================] - 0s 3ms/step - loss: 0.4258 - accuracy: 0.7861\n",
            "Epoch 22/100\n",
            "6/6 [==============================] - 0s 3ms/step - loss: 0.4174 - accuracy: 0.7380\n",
            "Epoch 23/100\n",
            "6/6 [==============================] - 0s 2ms/step - loss: 0.4083 - accuracy: 0.7754\n",
            "Epoch 24/100\n",
            "6/6 [==============================] - 0s 3ms/step - loss: 0.3995 - accuracy: 0.7807\n",
            "Epoch 25/100\n",
            "6/6 [==============================] - 0s 2ms/step - loss: 0.3954 - accuracy: 0.7861\n",
            "Epoch 26/100\n",
            "6/6 [==============================] - 0s 2ms/step - loss: 0.3854 - accuracy: 0.7861\n",
            "Epoch 27/100\n",
            "6/6 [==============================] - 0s 3ms/step - loss: 0.3784 - accuracy: 0.7807\n",
            "Epoch 28/100\n",
            "6/6 [==============================] - 0s 2ms/step - loss: 0.3733 - accuracy: 0.8235\n",
            "Epoch 29/100\n",
            "6/6 [==============================] - 0s 2ms/step - loss: 0.3666 - accuracy: 0.8128\n",
            "Epoch 30/100\n",
            "6/6 [==============================] - 0s 2ms/step - loss: 0.3588 - accuracy: 0.7968\n",
            "Epoch 31/100\n",
            "6/6 [==============================] - 0s 2ms/step - loss: 0.3546 - accuracy: 0.8449\n",
            "Epoch 32/100\n",
            "6/6 [==============================] - 0s 2ms/step - loss: 0.3501 - accuracy: 0.8021\n",
            "Epoch 33/100\n",
            "6/6 [==============================] - 0s 3ms/step - loss: 0.3395 - accuracy: 0.8182\n",
            "Epoch 34/100\n",
            "6/6 [==============================] - 0s 2ms/step - loss: 0.3377 - accuracy: 0.8663\n",
            "Epoch 35/100\n",
            "6/6 [==============================] - 0s 3ms/step - loss: 0.3363 - accuracy: 0.8128\n",
            "Epoch 36/100\n",
            "6/6 [==============================] - 0s 3ms/step - loss: 0.3248 - accuracy: 0.8556\n",
            "Epoch 37/100\n",
            "6/6 [==============================] - 0s 2ms/step - loss: 0.3211 - accuracy: 0.8663\n",
            "Epoch 38/100\n",
            "6/6 [==============================] - 0s 2ms/step - loss: 0.3139 - accuracy: 0.8556\n",
            "Epoch 39/100\n",
            "6/6 [==============================] - 0s 3ms/step - loss: 0.3081 - accuracy: 0.8610\n",
            "Epoch 40/100\n",
            "6/6 [==============================] - 0s 3ms/step - loss: 0.3041 - accuracy: 0.8556\n",
            "Epoch 41/100\n",
            "6/6 [==============================] - 0s 2ms/step - loss: 0.3089 - accuracy: 0.8770\n",
            "Epoch 42/100\n",
            "6/6 [==============================] - 0s 2ms/step - loss: 0.2888 - accuracy: 0.8824\n",
            "Epoch 43/100\n",
            "6/6 [==============================] - 0s 3ms/step - loss: 0.2923 - accuracy: 0.8663\n",
            "Epoch 44/100\n",
            "6/6 [==============================] - 0s 3ms/step - loss: 0.2838 - accuracy: 0.8877\n",
            "Epoch 45/100\n",
            "6/6 [==============================] - 0s 3ms/step - loss: 0.2754 - accuracy: 0.8770\n",
            "Epoch 46/100\n",
            "6/6 [==============================] - 0s 3ms/step - loss: 0.2732 - accuracy: 0.8717\n",
            "Epoch 47/100\n",
            "6/6 [==============================] - 0s 3ms/step - loss: 0.2674 - accuracy: 0.8877\n",
            "Epoch 48/100\n",
            "6/6 [==============================] - 0s 3ms/step - loss: 0.2606 - accuracy: 0.8984\n",
            "Epoch 49/100\n",
            "6/6 [==============================] - 0s 3ms/step - loss: 0.2582 - accuracy: 0.8877\n",
            "Epoch 50/100\n",
            "6/6 [==============================] - 0s 3ms/step - loss: 0.2554 - accuracy: 0.8930\n",
            "Epoch 51/100\n",
            "6/6 [==============================] - 0s 3ms/step - loss: 0.2542 - accuracy: 0.9091\n",
            "Epoch 52/100\n",
            "6/6 [==============================] - 0s 3ms/step - loss: 0.2507 - accuracy: 0.8717\n",
            "Epoch 53/100\n",
            "6/6 [==============================] - 0s 4ms/step - loss: 0.2451 - accuracy: 0.9037\n",
            "Epoch 54/100\n",
            "6/6 [==============================] - 0s 4ms/step - loss: 0.2356 - accuracy: 0.9144\n",
            "Epoch 55/100\n",
            "6/6 [==============================] - 0s 3ms/step - loss: 0.2413 - accuracy: 0.8663\n",
            "Epoch 56/100\n",
            "6/6 [==============================] - 0s 3ms/step - loss: 0.2319 - accuracy: 0.9198\n",
            "Epoch 57/100\n",
            "6/6 [==============================] - 0s 3ms/step - loss: 0.2239 - accuracy: 0.9037\n",
            "Epoch 58/100\n",
            "6/6 [==============================] - 0s 3ms/step - loss: 0.2210 - accuracy: 0.9144\n",
            "Epoch 59/100\n",
            "6/6 [==============================] - 0s 4ms/step - loss: 0.2172 - accuracy: 0.9144\n",
            "Epoch 60/100\n",
            "6/6 [==============================] - 0s 4ms/step - loss: 0.2135 - accuracy: 0.9091\n",
            "Epoch 61/100\n",
            "6/6 [==============================] - 0s 3ms/step - loss: 0.2213 - accuracy: 0.8984\n",
            "Epoch 62/100\n",
            "6/6 [==============================] - 0s 4ms/step - loss: 0.2038 - accuracy: 0.9091\n",
            "Epoch 63/100\n",
            "6/6 [==============================] - 0s 3ms/step - loss: 0.2067 - accuracy: 0.9305\n",
            "Epoch 64/100\n",
            "6/6 [==============================] - 0s 3ms/step - loss: 0.2056 - accuracy: 0.9251\n",
            "Epoch 65/100\n",
            "6/6 [==============================] - 0s 3ms/step - loss: 0.1991 - accuracy: 0.9091\n",
            "Epoch 66/100\n",
            "6/6 [==============================] - 0s 3ms/step - loss: 0.1978 - accuracy: 0.9305\n",
            "Epoch 67/100\n",
            "6/6 [==============================] - 0s 3ms/step - loss: 0.1966 - accuracy: 0.9091\n",
            "Epoch 68/100\n",
            "6/6 [==============================] - 0s 3ms/step - loss: 0.1870 - accuracy: 0.9305\n",
            "Epoch 69/100\n",
            "6/6 [==============================] - 0s 3ms/step - loss: 0.1841 - accuracy: 0.9358\n",
            "Epoch 70/100\n",
            "6/6 [==============================] - 0s 3ms/step - loss: 0.1793 - accuracy: 0.9251\n",
            "Epoch 71/100\n",
            "6/6 [==============================] - 0s 3ms/step - loss: 0.1780 - accuracy: 0.9358\n",
            "Epoch 72/100\n",
            "6/6 [==============================] - 0s 3ms/step - loss: 0.1784 - accuracy: 0.9198\n",
            "Epoch 73/100\n",
            "6/6 [==============================] - 0s 3ms/step - loss: 0.1727 - accuracy: 0.9305\n",
            "Epoch 74/100\n",
            "6/6 [==============================] - 0s 4ms/step - loss: 0.1670 - accuracy: 0.9305\n",
            "Epoch 75/100\n",
            "6/6 [==============================] - 0s 3ms/step - loss: 0.1652 - accuracy: 0.9305\n",
            "Epoch 76/100\n",
            "6/6 [==============================] - 0s 3ms/step - loss: 0.1631 - accuracy: 0.9358\n",
            "Epoch 77/100\n",
            "6/6 [==============================] - 0s 3ms/step - loss: 0.1613 - accuracy: 0.9305\n",
            "Epoch 78/100\n",
            "6/6 [==============================] - 0s 3ms/step - loss: 0.1570 - accuracy: 0.9358\n",
            "Epoch 79/100\n",
            "6/6 [==============================] - 0s 3ms/step - loss: 0.1537 - accuracy: 0.9412\n",
            "Epoch 80/100\n",
            "6/6 [==============================] - 0s 3ms/step - loss: 0.1524 - accuracy: 0.9251\n",
            "Epoch 81/100\n",
            "6/6 [==============================] - 0s 4ms/step - loss: 0.1492 - accuracy: 0.9358\n",
            "Epoch 82/100\n",
            "6/6 [==============================] - 0s 3ms/step - loss: 0.1481 - accuracy: 0.9412\n",
            "Epoch 83/100\n",
            "6/6 [==============================] - 0s 3ms/step - loss: 0.1444 - accuracy: 0.9412\n",
            "Epoch 84/100\n",
            "6/6 [==============================] - 0s 3ms/step - loss: 0.1401 - accuracy: 0.9412\n",
            "Epoch 85/100\n",
            "6/6 [==============================] - 0s 3ms/step - loss: 0.1415 - accuracy: 0.9465\n",
            "Epoch 86/100\n",
            "6/6 [==============================] - 0s 3ms/step - loss: 0.1392 - accuracy: 0.9358\n",
            "Epoch 87/100\n",
            "6/6 [==============================] - 0s 3ms/step - loss: 0.1329 - accuracy: 0.9412\n",
            "Epoch 88/100\n",
            "6/6 [==============================] - 0s 3ms/step - loss: 0.1285 - accuracy: 0.9465\n",
            "Epoch 89/100\n",
            "6/6 [==============================] - 0s 3ms/step - loss: 0.1304 - accuracy: 0.9465\n",
            "Epoch 90/100\n",
            "6/6 [==============================] - 0s 4ms/step - loss: 0.1273 - accuracy: 0.9465\n",
            "Epoch 91/100\n",
            "6/6 [==============================] - 0s 3ms/step - loss: 0.1237 - accuracy: 0.9465\n",
            "Epoch 92/100\n",
            "6/6 [==============================] - 0s 2ms/step - loss: 0.1216 - accuracy: 0.9465\n",
            "Epoch 93/100\n",
            "6/6 [==============================] - 0s 2ms/step - loss: 0.1179 - accuracy: 0.9412\n",
            "Epoch 94/100\n",
            "6/6 [==============================] - 0s 2ms/step - loss: 0.1207 - accuracy: 0.9519\n",
            "Epoch 95/100\n",
            "6/6 [==============================] - 0s 2ms/step - loss: 0.1169 - accuracy: 0.9519\n",
            "Epoch 96/100\n",
            "6/6 [==============================] - 0s 2ms/step - loss: 0.1122 - accuracy: 0.9733\n",
            "Epoch 97/100\n",
            "6/6 [==============================] - 0s 3ms/step - loss: 0.1090 - accuracy: 0.9626\n",
            "Epoch 98/100\n",
            "6/6 [==============================] - 0s 3ms/step - loss: 0.1093 - accuracy: 0.9572\n",
            "Epoch 99/100\n",
            "6/6 [==============================] - 0s 2ms/step - loss: 0.1065 - accuracy: 0.9679\n",
            "Epoch 100/100\n",
            "6/6 [==============================] - 0s 2ms/step - loss: 0.1047 - accuracy: 0.9626\n"
          ]
        },
        {
          "output_type": "execute_result",
          "data": {
            "text/plain": [
              "<keras.src.callbacks.History at 0x7f3176d29e10>"
            ]
          },
          "metadata": {},
          "execution_count": 30
        }
      ]
    },
    {
      "cell_type": "code",
      "source": [
        "y_pred=nn_model.predict(X_test)\n",
        "y_pred=tf.nn.sigmoid(y_pred)\n",
        "y_pred=np.where(y_pred>0.5,1,0)"
      ],
      "metadata": {
        "colab": {
          "base_uri": "https://localhost:8080/"
        },
        "id": "-21-vFJ6SmHJ",
        "outputId": "65844a95-3e56-4edd-ccb1-72ae6ed40475"
      },
      "execution_count": 31,
      "outputs": [
        {
          "output_type": "stream",
          "name": "stdout",
          "text": [
            "1/1 [==============================] - 0s 53ms/step\n"
          ]
        }
      ]
    },
    {
      "cell_type": "code",
      "source": [
        "y_pred.reshape(-1)"
      ],
      "metadata": {
        "colab": {
          "base_uri": "https://localhost:8080/"
        },
        "id": "bve76t9YV2bv",
        "outputId": "59fed5ed-8f8b-434c-81c9-df8cd6aaff57"
      },
      "execution_count": 32,
      "outputs": [
        {
          "output_type": "execute_result",
          "data": {
            "text/plain": [
              "array([0, 1, 1, 0, 0, 1, 0, 0, 1, 0, 1, 0, 1, 0, 1, 0, 0, 0, 1, 0, 1])"
            ]
          },
          "metadata": {},
          "execution_count": 32
        }
      ]
    },
    {
      "cell_type": "code",
      "source": [
        "print('Accuracy:',accuracy_score(y_test,y_pred))"
      ],
      "metadata": {
        "colab": {
          "base_uri": "https://localhost:8080/"
        },
        "id": "4qtZInkgVKFa",
        "outputId": "2fc1eed8-2c5e-4042-c275-578a274009b9"
      },
      "execution_count": 33,
      "outputs": [
        {
          "output_type": "stream",
          "name": "stdout",
          "text": [
            "Accuracy: 0.7619047619047619\n"
          ]
        }
      ]
    },
    {
      "cell_type": "markdown",
      "source": [
        "This accuracy is almost same as the one found with simple Logistic regression model. So **No Real Improvement** in this particular case"
      ],
      "metadata": {
        "id": "_uw0d8SqWnuq"
      }
    }
  ]
}